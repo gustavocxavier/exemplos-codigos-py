{
  "cells": [
    {
      "cell_type": "markdown",
      "metadata": {
        "id": "view-in-github",
        "colab_type": "text"
      },
      "source": [
        "<a href=\"https://colab.research.google.com/github/gustavocxavier/exemplos-codigos-py/blob/main/previsao_notebook2.ipynb\" target=\"_parent\"><img src=\"https://colab.research.google.com/assets/colab-badge.svg\" alt=\"Open In Colab\"/></a>"
      ]
    },
    {
      "cell_type": "markdown",
      "source": [
        "# Inicio"
      ],
      "metadata": {
        "id": "VH_qOyyhSgcH"
      },
      "id": "VH_qOyyhSgcH"
    },
    {
      "cell_type": "code",
      "source": [
        "# !pip install matplotlib==3.2.2\n",
        "# !pip install matplotlib --upgrade\n",
        "!pip install pandas_datareader --upgrade"
      ],
      "metadata": {
        "colab": {
          "base_uri": "https://localhost:8080/"
        },
        "id": "USwsfrslWunE",
        "outputId": "ee7f2cbe-e9f0-4fe8-917f-b41d7e85597a"
      },
      "id": "USwsfrslWunE",
      "execution_count": 27,
      "outputs": [
        {
          "output_type": "stream",
          "name": "stdout",
          "text": [
            "Looking in indexes: https://pypi.org/simple, https://us-python.pkg.dev/colab-wheels/public/simple/\n",
            "Requirement already satisfied: pandas_datareader in /usr/local/lib/python3.7/dist-packages (0.10.0)\n",
            "Requirement already satisfied: requests>=2.19.0 in /usr/local/lib/python3.7/dist-packages (from pandas_datareader) (2.23.0)\n",
            "Requirement already satisfied: pandas>=0.23 in /usr/local/lib/python3.7/dist-packages (from pandas_datareader) (1.3.5)\n",
            "Requirement already satisfied: lxml in /usr/local/lib/python3.7/dist-packages (from pandas_datareader) (4.9.1)\n",
            "Requirement already satisfied: python-dateutil>=2.7.3 in /usr/local/lib/python3.7/dist-packages (from pandas>=0.23->pandas_datareader) (2.8.2)\n",
            "Requirement already satisfied: pytz>=2017.3 in /usr/local/lib/python3.7/dist-packages (from pandas>=0.23->pandas_datareader) (2022.5)\n",
            "Requirement already satisfied: numpy>=1.17.3 in /usr/local/lib/python3.7/dist-packages (from pandas>=0.23->pandas_datareader) (1.21.6)\n",
            "Requirement already satisfied: six>=1.5 in /usr/local/lib/python3.7/dist-packages (from python-dateutil>=2.7.3->pandas>=0.23->pandas_datareader) (1.15.0)\n",
            "Requirement already satisfied: idna<3,>=2.5 in /usr/local/lib/python3.7/dist-packages (from requests>=2.19.0->pandas_datareader) (2.10)\n",
            "Requirement already satisfied: urllib3!=1.25.0,!=1.25.1,<1.26,>=1.21.1 in /usr/local/lib/python3.7/dist-packages (from requests>=2.19.0->pandas_datareader) (1.24.3)\n",
            "Requirement already satisfied: certifi>=2017.4.17 in /usr/local/lib/python3.7/dist-packages (from requests>=2.19.0->pandas_datareader) (2022.9.24)\n",
            "Requirement already satisfied: chardet<4,>=3.0.2 in /usr/local/lib/python3.7/dist-packages (from requests>=2.19.0->pandas_datareader) (3.0.4)\n"
          ]
        }
      ]
    },
    {
      "cell_type": "code",
      "execution_count": 28,
      "id": "9f41826f",
      "metadata": {
        "id": "9f41826f"
      },
      "outputs": [],
      "source": [
        "%matplotlib inline\n",
        "\n",
        "import numpy as np\n",
        "import random\n",
        "import tensorflow as tf\n",
        "from tensorflow import keras\n",
        "import matplotlib.pyplot as plt"
      ]
    },
    {
      "cell_type": "code",
      "source": [
        "## Feedforward NN for financial data\n",
        "# Download financial data:\n",
        "from pandas_datareader.data import DataReader\n",
        "from datetime import datetime\n",
        "import pandas as pd\n",
        "\n",
        "myData = DataReader([\"AAPL\"],\"yahoo\",datetime(2010,1,1),datetime(2022,10,24)) \n",
        "A = myData[\"Adj Close\"][\"AAPL\"]\n",
        "\n",
        "myData = DataReader([\"MSFT\"],\"yahoo\",datetime(2010,1,1),datetime(2021,10,24)) \n",
        "B = myData[\"Adj Close\"][\"MSFT\"]"
      ],
      "metadata": {
        "id": "UBRS4eWE5mcF"
      },
      "id": "UBRS4eWE5mcF",
      "execution_count": 32,
      "outputs": []
    },
    {
      "cell_type": "code",
      "source": [
        "df = pd.DataFrame({'A': A,'B': B})\n",
        "df_r = np.log(df) - np.log(df.shift(1))\n",
        "df_r[['A_1', 'B_1']] = df_r.shift(1)\n",
        "df_r[['A_2', 'B_2']] = df_r[['A', 'B']].shift(2)\n",
        "df_r = df_r.dropna()\n",
        "df_r.head(5)"
      ],
      "metadata": {
        "colab": {
          "base_uri": "https://localhost:8080/",
          "height": 237
        },
        "id": "to7qJXP5Atif",
        "outputId": "be65d81d-095f-46cc-c774-c7b5ab40198b"
      },
      "id": "to7qJXP5Atif",
      "execution_count": 33,
      "outputs": [
        {
          "output_type": "execute_result",
          "data": {
            "text/plain": [
              "                   A         B       A_1       B_1       A_2       B_2\n",
              "Date                                                                  \n",
              "2010-01-07 -0.001851 -0.010454 -0.016034 -0.006156  0.001728  0.000323\n",
              "2010-01-08  0.006626  0.006873 -0.001851 -0.010454 -0.016034 -0.006156\n",
              "2010-01-11 -0.008861 -0.012802  0.006626  0.006873 -0.001851 -0.010454\n",
              "2010-01-12 -0.011440 -0.006629 -0.008861 -0.012802  0.006626  0.006873\n",
              "2010-01-13  0.014007  0.009269 -0.011440 -0.006629 -0.008861 -0.012802"
            ],
            "text/html": [
              "\n",
              "  <div id=\"df-f4084a87-af45-454c-a980-8338d11445fc\">\n",
              "    <div class=\"colab-df-container\">\n",
              "      <div>\n",
              "<style scoped>\n",
              "    .dataframe tbody tr th:only-of-type {\n",
              "        vertical-align: middle;\n",
              "    }\n",
              "\n",
              "    .dataframe tbody tr th {\n",
              "        vertical-align: top;\n",
              "    }\n",
              "\n",
              "    .dataframe thead th {\n",
              "        text-align: right;\n",
              "    }\n",
              "</style>\n",
              "<table border=\"1\" class=\"dataframe\">\n",
              "  <thead>\n",
              "    <tr style=\"text-align: right;\">\n",
              "      <th></th>\n",
              "      <th>A</th>\n",
              "      <th>B</th>\n",
              "      <th>A_1</th>\n",
              "      <th>B_1</th>\n",
              "      <th>A_2</th>\n",
              "      <th>B_2</th>\n",
              "    </tr>\n",
              "    <tr>\n",
              "      <th>Date</th>\n",
              "      <th></th>\n",
              "      <th></th>\n",
              "      <th></th>\n",
              "      <th></th>\n",
              "      <th></th>\n",
              "      <th></th>\n",
              "    </tr>\n",
              "  </thead>\n",
              "  <tbody>\n",
              "    <tr>\n",
              "      <th>2010-01-07</th>\n",
              "      <td>-0.001851</td>\n",
              "      <td>-0.010454</td>\n",
              "      <td>-0.016034</td>\n",
              "      <td>-0.006156</td>\n",
              "      <td>0.001728</td>\n",
              "      <td>0.000323</td>\n",
              "    </tr>\n",
              "    <tr>\n",
              "      <th>2010-01-08</th>\n",
              "      <td>0.006626</td>\n",
              "      <td>0.006873</td>\n",
              "      <td>-0.001851</td>\n",
              "      <td>-0.010454</td>\n",
              "      <td>-0.016034</td>\n",
              "      <td>-0.006156</td>\n",
              "    </tr>\n",
              "    <tr>\n",
              "      <th>2010-01-11</th>\n",
              "      <td>-0.008861</td>\n",
              "      <td>-0.012802</td>\n",
              "      <td>0.006626</td>\n",
              "      <td>0.006873</td>\n",
              "      <td>-0.001851</td>\n",
              "      <td>-0.010454</td>\n",
              "    </tr>\n",
              "    <tr>\n",
              "      <th>2010-01-12</th>\n",
              "      <td>-0.011440</td>\n",
              "      <td>-0.006629</td>\n",
              "      <td>-0.008861</td>\n",
              "      <td>-0.012802</td>\n",
              "      <td>0.006626</td>\n",
              "      <td>0.006873</td>\n",
              "    </tr>\n",
              "    <tr>\n",
              "      <th>2010-01-13</th>\n",
              "      <td>0.014007</td>\n",
              "      <td>0.009269</td>\n",
              "      <td>-0.011440</td>\n",
              "      <td>-0.006629</td>\n",
              "      <td>-0.008861</td>\n",
              "      <td>-0.012802</td>\n",
              "    </tr>\n",
              "  </tbody>\n",
              "</table>\n",
              "</div>\n",
              "      <button class=\"colab-df-convert\" onclick=\"convertToInteractive('df-f4084a87-af45-454c-a980-8338d11445fc')\"\n",
              "              title=\"Convert this dataframe to an interactive table.\"\n",
              "              style=\"display:none;\">\n",
              "        \n",
              "  <svg xmlns=\"http://www.w3.org/2000/svg\" height=\"24px\"viewBox=\"0 0 24 24\"\n",
              "       width=\"24px\">\n",
              "    <path d=\"M0 0h24v24H0V0z\" fill=\"none\"/>\n",
              "    <path d=\"M18.56 5.44l.94 2.06.94-2.06 2.06-.94-2.06-.94-.94-2.06-.94 2.06-2.06.94zm-11 1L8.5 8.5l.94-2.06 2.06-.94-2.06-.94L8.5 2.5l-.94 2.06-2.06.94zm10 10l.94 2.06.94-2.06 2.06-.94-2.06-.94-.94-2.06-.94 2.06-2.06.94z\"/><path d=\"M17.41 7.96l-1.37-1.37c-.4-.4-.92-.59-1.43-.59-.52 0-1.04.2-1.43.59L10.3 9.45l-7.72 7.72c-.78.78-.78 2.05 0 2.83L4 21.41c.39.39.9.59 1.41.59.51 0 1.02-.2 1.41-.59l7.78-7.78 2.81-2.81c.8-.78.8-2.07 0-2.86zM5.41 20L4 18.59l7.72-7.72 1.47 1.35L5.41 20z\"/>\n",
              "  </svg>\n",
              "      </button>\n",
              "      \n",
              "  <style>\n",
              "    .colab-df-container {\n",
              "      display:flex;\n",
              "      flex-wrap:wrap;\n",
              "      gap: 12px;\n",
              "    }\n",
              "\n",
              "    .colab-df-convert {\n",
              "      background-color: #E8F0FE;\n",
              "      border: none;\n",
              "      border-radius: 50%;\n",
              "      cursor: pointer;\n",
              "      display: none;\n",
              "      fill: #1967D2;\n",
              "      height: 32px;\n",
              "      padding: 0 0 0 0;\n",
              "      width: 32px;\n",
              "    }\n",
              "\n",
              "    .colab-df-convert:hover {\n",
              "      background-color: #E2EBFA;\n",
              "      box-shadow: 0px 1px 2px rgba(60, 64, 67, 0.3), 0px 1px 3px 1px rgba(60, 64, 67, 0.15);\n",
              "      fill: #174EA6;\n",
              "    }\n",
              "\n",
              "    [theme=dark] .colab-df-convert {\n",
              "      background-color: #3B4455;\n",
              "      fill: #D2E3FC;\n",
              "    }\n",
              "\n",
              "    [theme=dark] .colab-df-convert:hover {\n",
              "      background-color: #434B5C;\n",
              "      box-shadow: 0px 1px 3px 1px rgba(0, 0, 0, 0.15);\n",
              "      filter: drop-shadow(0px 1px 2px rgba(0, 0, 0, 0.3));\n",
              "      fill: #FFFFFF;\n",
              "    }\n",
              "  </style>\n",
              "\n",
              "      <script>\n",
              "        const buttonEl =\n",
              "          document.querySelector('#df-f4084a87-af45-454c-a980-8338d11445fc button.colab-df-convert');\n",
              "        buttonEl.style.display =\n",
              "          google.colab.kernel.accessAllowed ? 'block' : 'none';\n",
              "\n",
              "        async function convertToInteractive(key) {\n",
              "          const element = document.querySelector('#df-f4084a87-af45-454c-a980-8338d11445fc');\n",
              "          const dataTable =\n",
              "            await google.colab.kernel.invokeFunction('convertToInteractive',\n",
              "                                                     [key], {});\n",
              "          if (!dataTable) return;\n",
              "\n",
              "          const docLinkHtml = 'Like what you see? Visit the ' +\n",
              "            '<a target=\"_blank\" href=https://colab.research.google.com/notebooks/data_table.ipynb>data table notebook</a>'\n",
              "            + ' to learn more about interactive tables.';\n",
              "          element.innerHTML = '';\n",
              "          dataTable['output_type'] = 'display_data';\n",
              "          await google.colab.output.renderOutput(dataTable, element);\n",
              "          const docLink = document.createElement('div');\n",
              "          docLink.innerHTML = docLinkHtml;\n",
              "          element.appendChild(docLink);\n",
              "        }\n",
              "      </script>\n",
              "    </div>\n",
              "  </div>\n",
              "  "
            ]
          },
          "metadata": {},
          "execution_count": 33
        }
      ]
    },
    {
      "cell_type": "code",
      "source": [
        "X, y = df_r[['A_1', 'A_2', 'B_1','B_2']], df_r[['A']]\n",
        "# display(X.head())\n",
        "# display(X.tail())\n",
        "# display(y.head())\n",
        "# display(y.tail())"
      ],
      "metadata": {
        "id": "9kjvBmb5C6oe"
      },
      "id": "9kjvBmb5C6oe",
      "execution_count": 34,
      "outputs": []
    },
    {
      "cell_type": "code",
      "source": [
        "n_train = round(y.size*0.80)\n",
        "# train_X = r[0:2500]\n",
        "# test_X = r[2500:3019]\n",
        "train_X = X.to_numpy()[0:n_train]\n",
        "test_X = X.to_numpy()[n_train:-1]\n",
        "\n",
        "\n",
        "# train_y = r[1:2501]\n",
        "# test_y = r[2501:3020]\n",
        "train_y = y.to_numpy()[1:(n_train+1)]\n",
        "test_y = y.to_numpy()[(n_train+1):]\n"
      ],
      "metadata": {
        "id": "BvfpAbHUDZah"
      },
      "id": "BvfpAbHUDZah",
      "execution_count": 35,
      "outputs": []
    },
    {
      "cell_type": "markdown",
      "source": [
        "$r_{A,t} = \\beta_0 + \\beta_{1} r_{A,t-1} + \\beta_{2} r_{1,t-2} + \\beta_{3} r_{B,t-1} + \\beta_{4} r_{B,t-2}$"
      ],
      "metadata": {
        "id": "CHaFmi1UAOdP"
      },
      "id": "CHaFmi1UAOdP"
    },
    {
      "cell_type": "code",
      "execution_count": 36,
      "id": "118dbb6e",
      "metadata": {
        "scrolled": false,
        "colab": {
          "base_uri": "https://localhost:8080/",
          "height": 560
        },
        "id": "118dbb6e",
        "outputId": "4321db71-1d01-49f6-a22d-23076c57dbc7"
      },
      "outputs": [
        {
          "output_type": "stream",
          "name": "stdout",
          "text": [
            "Model: \"sequential_3\"\n",
            "_________________________________________________________________\n",
            " Layer (type)                Output Shape              Param #   \n",
            "=================================================================\n",
            " dense_5 (Dense)             (None, 2)                 10        \n",
            "                                                                 \n",
            " dense_6 (Dense)             (None, 1)                 3         \n",
            "                                                                 \n",
            "=================================================================\n",
            "Total params: 13\n",
            "Trainable params: 13\n",
            "Non-trainable params: 0\n",
            "_________________________________________________________________\n"
          ]
        },
        {
          "output_type": "display_data",
          "data": {
            "text/plain": [
              "<Figure size 432x288 with 1 Axes>"
            ],
            "image/png": "[encoded data removed]"
          },
          "metadata": {
            "needs_background": "light"
          }
        },
        {
          "output_type": "stream",
          "name": "stdout",
          "text": [
            "Training MSE: 0.0002540225978009403\n",
            "Validation MSE: 0.00040211007581092417\n",
            "Test MSE: 0.0004958374192938209\n",
            "Compare with AR(1): 0.0004992738758039772\n"
          ]
        }
      ],
      "source": [
        "# Construct neural network\n",
        "HIDDEN = 2\n",
        "NN = keras.Sequential()\n",
        "NN.add(keras.layers.Dense(HIDDEN, input_dim=train_X.shape[1],activation='relu')) #1 input x\n",
        "# NN.add(keras.layers.Dense(HIDDEN, activation='relu'))\n",
        "NN.add(keras.layers.Dense(1, activation='linear')) #1 output y\n",
        "\n",
        "NN.summary()\n",
        "\n",
        "# State the loss function and optimizer (adam is a good choice usually)\n",
        "NN.compile(optimizer=keras.optimizers.Adam(),loss='mean_squared_error')\n",
        "\n",
        "# Fit the model to training data\n",
        "EPOCHS = 100 # How long to train for (cut off early)\n",
        "history = NN.fit(train_X,train_y, epochs=EPOCHS, validation_split=0.1,\n",
        "                 shuffle=False, verbose=0)\n",
        "# View improvement over epochs\n",
        "plt.plot(history.history['loss'])\n",
        "plt.plot(history.history['val_loss'])\n",
        "plt.legend(['Training','Validation'])\n",
        "plt.show()\n",
        "print('Training MSE:',history.history['loss'][-1]) # Training MSE\n",
        "print('Validation MSE:', history.history['val_loss'][-1]) # Validation loss\n",
        "\n",
        "# Evaluate on test data\n",
        "print('Test MSE:', NN.evaluate(test_X , test_y , verbose=0)) # Test MSE\n",
        "\n",
        "\n",
        "# How does this compare with an AR(1) model\n",
        "XX = np.vstack([np.ones(len(train_X[:,0])),train_X[:,0]]).T\n",
        "b0,b1 = np.linalg.lstsq(XX,train_y,rcond=None)[0]\n",
        "\n",
        "# Compute MSE\n",
        "print('Compare with AR(1):', np.mean(((b0+b1*test_X) - test_y)**2))\n",
        "\n",
        "\n",
        "# How should we modify this NN to consider 2+ lags?\n",
        "# What other network structures should we try?"
      ]
    },
    {
      "cell_type": "code",
      "source": [
        "plt.plot(history.history['loss'])\n",
        "plt.plot(history.history['val_loss'][:-1])\n",
        "plt.legend(['Training','Validation'])\n",
        "plt.show()\n"
      ],
      "metadata": {
        "colab": {
          "base_uri": "https://localhost:8080/",
          "height": 269
        },
        "id": "CBgbx5IEHbR-",
        "outputId": "cea3819b-d47b-4ada-bc97-1762a037aad2"
      },
      "id": "CBgbx5IEHbR-",
      "execution_count": 13,
      "outputs": [
        {
          "output_type": "display_data",
          "data": {
            "text/plain": [
              "<Figure size 432x288 with 1 Axes>"
            ],
            "image/png": "[encoded data removed]"
          },
          "metadata": {
            "needs_background": "light"
          }
        }
      ]
    },
    {
      "cell_type": "code",
      "source": [
        "plt.plot(history.history['loss'])\n",
        "plt.legend(['Training'])\n",
        "plt.show()"
      ],
      "metadata": {
        "colab": {
          "base_uri": "https://localhost:8080/",
          "height": 265
        },
        "id": "AGk-LK1zJU3X",
        "outputId": "d6df50c1-6ff5-464f-8b61-c562205db2ed"
      },
      "id": "AGk-LK1zJU3X",
      "execution_count": 14,
      "outputs": [
        {
          "output_type": "display_data",
          "data": {
            "text/plain": [
              "<Figure size 432x288 with 1 Axes>"
            ],
            "image/png": "[encoded data removed]"
          },
          "metadata": {
            "needs_background": "light"
          }
        }
      ]
    },
    {
      "cell_type": "code",
      "source": [
        "plt.plot(history.history['val_loss'])\n",
        "plt.legend(['Validation'])\n",
        "plt.show()"
      ],
      "metadata": {
        "colab": {
          "base_uri": "https://localhost:8080/",
          "height": 265
        },
        "id": "3ClKoR-cJdrI",
        "outputId": "385ccf61-c4c9-462e-b4ed-2d4bff00effb"
      },
      "id": "3ClKoR-cJdrI",
      "execution_count": 15,
      "outputs": [
        {
          "output_type": "display_data",
          "data": {
            "text/plain": [
              "<Figure size 432x288 with 1 Axes>"
            ],
            "image/png": "[encoded data removed]"
          },
          "metadata": {
            "needs_background": "light"
          }
        }
      ]
    },
    {
      "cell_type": "markdown",
      "source": [
        "Training MSE: 0.0002538338303565979\n",
        "\n",
        "Validation MSE: 0.0004063052765559405\n",
        "\n",
        "Test MSE: 0.0005042432458139956\n",
        "\n",
        "Compare with AR(1): 0.0005017716532750181"
      ],
      "metadata": {
        "id": "MroC5pFS_vuN"
      },
      "id": "MroC5pFS_vuN"
    },
    {
      "cell_type": "code",
      "source": [
        "# Another neural network\n",
        "\n",
        "# Construct neural network\n",
        "HIDDEN = 32\n",
        "NN2 = keras.Sequential()\n",
        "NN2.add(keras.layers.Dense(HIDDEN, input_dim=train_X.shape[1],activation='relu')) #1 input x\n",
        "# NN.add(keras.layers.Dense(HIDDEN, activation='relu'))\n",
        "NN2.add(keras.layers.Dense(1, activation='linear')) #1 output y\n",
        "\n",
        "NN2.summary()\n",
        "\n",
        "# State the loss function and optimizer (adam is a good choice usually)\n",
        "NN2.compile(optimizer=keras.optimizers.Adam(),loss='mean_squared_error')\n",
        "\n",
        "# Fit the model to training data\n",
        "EPOCHS = 100 # How long to train for (cut off early)\n",
        "history = NN2.fit(train_X,train_y, epochs=EPOCHS, validation_split=0.1,\n",
        "                 shuffle=False, verbose=0)\n",
        "# View improvement over epochs\n",
        "plt.plot(history.history['loss'])\n",
        "plt.plot(history.history['val_loss'])\n",
        "plt.legend(['Training','Validation'])\n",
        "plt.show()\n",
        "print('Training MSE:',history.history['loss'][-1]) # Training MSE\n",
        "print('Validation MSE:', history.history['val_loss'][-1]) # Validation loss\n",
        "\n",
        "# Evaluate on test data\n",
        "print('Test MSE:', NN.evaluate(test_X , test_y , verbose=0)) # Test MSE\n",
        "\n",
        "\n",
        "# How does this compare with an AR(1) model\n",
        "XX = np.vstack([np.ones(len(train_X[:,0])),train_X[:,0]]).T\n",
        "b0,b1 = np.linalg.lstsq(XX,train_y,rcond=None)[0]\n",
        "\n",
        "# Compute MSE\n",
        "print('Compa#re with AR(1):', np.mean(((b0+b1*test_X) - test_y)**2))\n",
        "\n",
        "\n",
        "# How should we modify this NN to consider 2+ lags?\n",
        "# What other network structures should we try?"
      ],
      "metadata": {
        "colab": {
          "base_uri": "https://localhost:8080/",
          "height": 560
        },
        "id": "oBz8sI-IMNjP",
        "outputId": "e2e23a35-f042-4028-e277-0b4e04bea11d"
      },
      "id": "oBz8sI-IMNjP",
      "execution_count": 16,
      "outputs": [
        {
          "output_type": "stream",
          "name": "stdout",
          "text": [
            "Model: \"sequential_1\"\n",
            "_________________________________________________________________\n",
            " Layer (type)                Output Shape              Param #   \n",
            "=================================================================\n",
            " dense_2 (Dense)             (None, 32)                160       \n",
            "                                                                 \n",
            " dense_3 (Dense)             (None, 1)                 33        \n",
            "                                                                 \n",
            "=================================================================\n",
            "Total params: 193\n",
            "Trainable params: 193\n",
            "Non-trainable params: 0\n",
            "_________________________________________________________________\n"
          ]
        },
        {
          "output_type": "display_data",
          "data": {
            "text/plain": [
              "<Figure size 432x288 with 1 Axes>"
            ],
            "image/png": "[encoded data removed]"
          },
          "metadata": {
            "needs_background": "light"
          }
        },
        {
          "output_type": "stream",
          "name": "stdout",
          "text": [
            "Training MSE: 0.00024341409152839333\n",
            "Validation MSE: 0.00042260761256329715\n",
            "Test MSE: 0.0005025836871936917\n",
            "Compa#re with AR(1): 0.00049814963971763\n"
          ]
        }
      ]
    },
    {
      "cell_type": "code",
      "source": [
        "plt.plot(history.history['loss'])\n",
        "plt.legend(['Training'])\n",
        "plt.show()"
      ],
      "metadata": {
        "colab": {
          "base_uri": "https://localhost:8080/",
          "height": 265
        },
        "id": "n5tQmx4eMmIt",
        "outputId": "bf8cff3f-2985-4276-a1f4-6d28276c8b71"
      },
      "id": "n5tQmx4eMmIt",
      "execution_count": 17,
      "outputs": [
        {
          "output_type": "display_data",
          "data": {
            "text/plain": [
              "<Figure size 432x288 with 1 Axes>"
            ],
            "image/png": "[encoded data removed]"
          },
          "metadata": {
            "needs_background": "light"
          }
        }
      ]
    },
    {
      "cell_type": "code",
      "source": [
        "# Overfitting\n",
        "plt.plot(history.history['val_loss'])\n",
        "plt.legend(['Validation'])\n",
        "plt.show()\n"
      ],
      "metadata": {
        "colab": {
          "base_uri": "https://localhost:8080/",
          "height": 265
        },
        "id": "V2UVtByzMniw",
        "outputId": "07d9c3a2-a7dd-461b-e625-add31553d54d"
      },
      "id": "V2UVtByzMniw",
      "execution_count": 18,
      "outputs": [
        {
          "output_type": "display_data",
          "data": {
            "text/plain": [
              "<Figure size 432x288 with 1 Axes>"
            ],
            "image/png": "[encoded data removed]"
          },
          "metadata": {
            "needs_background": "light"
          }
        }
      ]
    },
    {
      "cell_type": "code",
      "execution_count": 19,
      "id": "0db38b2e",
      "metadata": {
        "colab": {
          "base_uri": "https://localhost:8080/"
        },
        "id": "0db38b2e",
        "outputId": "d4f5c4c4-6e74-40c8-ae43-ccd6f9d73724"
      },
      "outputs": [
        {
          "output_type": "stream",
          "name": "stdout",
          "text": [
            "Model: \"sequential_2\"\n",
            "_________________________________________________________________\n",
            " Layer (type)                Output Shape              Param #   \n",
            "=================================================================\n",
            " embedding (Embedding)       (None, None, 2)           2         \n",
            "                                                                 \n",
            " lstm (LSTM)                 (None, 2)                 40        \n",
            "                                                                 \n",
            " dense_4 (Dense)             (None, 1)                 3         \n",
            "                                                                 \n",
            "=================================================================\n",
            "Total params: 45\n",
            "Trainable params: 45\n",
            "Non-trainable params: 0\n",
            "_________________________________________________________________\n"
          ]
        }
      ],
      "source": [
        "## Advanced topics:\n",
        "## Recurrent NN and LSTM NN\n",
        "\n",
        "#NN = keras.Sequential()\n",
        "#NN.add(keras.layers.Embedding(input_dim=1 , output_dim=2))\n",
        "#NN.add(keras.layers.SimpleRNN(16)) # 16 hidden nodes; tanh activation by default\n",
        "#NN.add(keras.layers.Dense(1, activation='linear')) # 1 output\n",
        "\n",
        "NN = keras.Sequential()\n",
        "NN.add(keras.layers.Embedding(input_dim=1 , output_dim=2))\n",
        "NN.add(keras.layers.LSTM(2)) # 16 hidden nodes; tanh activation by default\n",
        "NN.add(keras.layers.Dense(1, activation='linear')) # 1 output\n",
        "\n",
        "NN.summary()\n",
        "\n",
        "NN.compile(optimizer=keras.optimizers.Adam(),loss='mean_squared_error')"
      ]
    },
    {
      "cell_type": "code",
      "execution_count": 20,
      "id": "dbbdf5a2",
      "metadata": {
        "colab": {
          "base_uri": "https://localhost:8080/"
        },
        "id": "dbbdf5a2",
        "outputId": "f8b2a126-3029-4b78-cc77-9af2447b2c3a"
      },
      "outputs": [
        {
          "output_type": "stream",
          "name": "stdout",
          "text": [
            "0.0002533225924707949\n"
          ]
        }
      ],
      "source": [
        "EPOCHS = 100 \n",
        "history = NN.fit(train_X,train_y,epochs=EPOCHS,batch_size=32, shuffle=False, validation_split=0.1, verbose=0) # Batches help avoid overfitting\n",
        "print(history.history['loss'][-1]) # Training MSE\n"
      ]
    },
    {
      "cell_type": "code",
      "source": [
        "# View improvement over epochs\n",
        "plt.plot(np.log(history.history['loss']))\n",
        "plt.plot(np.log(history.history['val_loss']))\n",
        "plt.legend(['training', 'validation'])\n",
        "plt.show()\n"
      ],
      "metadata": {
        "colab": {
          "base_uri": "https://localhost:8080/",
          "height": 265
        },
        "id": "sYuY8E5KNiB_",
        "outputId": "5104fdcb-7f75-40f1-b491-2183ac75cad9"
      },
      "id": "sYuY8E5KNiB_",
      "execution_count": 21,
      "outputs": [
        {
          "output_type": "display_data",
          "data": {
            "text/plain": [
              "<Figure size 432x288 with 1 Axes>"
            ],
            "image/png": "[encoded data removed]"
          },
          "metadata": {
            "needs_background": "light"
          }
        }
      ]
    },
    {
      "cell_type": "code",
      "source": [
        "plt.plot(history.history['val_loss'])\n",
        "plt.legend(['validation'])\n",
        "plt.show()"
      ],
      "metadata": {
        "colab": {
          "base_uri": "https://localhost:8080/",
          "height": 265
        },
        "id": "HFaJDQFUNpCo",
        "outputId": "7f192fbf-a315-44f5-f998-81446801e3e9"
      },
      "id": "HFaJDQFUNpCo",
      "execution_count": 22,
      "outputs": [
        {
          "output_type": "display_data",
          "data": {
            "text/plain": [
              "<Figure size 432x288 with 1 Axes>"
            ],
            "image/png": "[encoded data removed]"
          },
          "metadata": {
            "needs_background": "light"
          }
        }
      ]
    },
    {
      "cell_type": "code",
      "source": [
        "NN.evaluate(test_X , test_y)"
      ],
      "metadata": {
        "colab": {
          "base_uri": "https://localhost:8080/"
        },
        "id": "bHWe2fQTZmWa",
        "outputId": "1be9d8bc-afc1-41a6-d6fc-904571459f15"
      },
      "id": "bHWe2fQTZmWa",
      "execution_count": 23,
      "outputs": [
        {
          "output_type": "stream",
          "name": "stdout",
          "text": [
            "19/19 [==============================] - 0s 2ms/step - loss: 4.9631e-04\n"
          ]
        },
        {
          "output_type": "execute_result",
          "data": {
            "text/plain": [
              "0.000496310880407691"
            ]
          },
          "metadata": {},
          "execution_count": 23
        }
      ]
    },
    {
      "cell_type": "code",
      "source": [
        "# Evaluate on test data\n",
        "print(NN.evaluate(test_X , test_y , verbose=0)) # Test MSE"
      ],
      "metadata": {
        "id": "kgmR8JNtZFlR",
        "colab": {
          "base_uri": "https://localhost:8080/"
        },
        "outputId": "9e81451c-fffd-4c17-c575-fe8a90aba93b"
      },
      "id": "kgmR8JNtZFlR",
      "execution_count": 24,
      "outputs": [
        {
          "output_type": "stream",
          "name": "stdout",
          "text": [
            "0.000496310880407691\n"
          ]
        }
      ]
    },
    {
      "cell_type": "code",
      "execution_count": 25,
      "id": "overhead-capitol",
      "metadata": {
        "id": "overhead-capitol"
      },
      "outputs": [],
      "source": [
        "# Other packages exist to do neural networks\n",
        "# -> Tensorflow is more customizable but less user friendly\n",
        "# -> PyTorch is newer and gaining popularity"
      ]
    }
  ],
  "metadata": {
    "kernelspec": {
      "display_name": "Python 3",
      "language": "python",
      "name": "python3"
    },
    "language_info": {
      "codemirror_mode": {
        "name": "ipython",
        "version": 3
      },
      "file_extension": ".py",
      "mimetype": "text/x-python",
      "name": "python",
      "nbconvert_exporter": "python",
      "pygments_lexer": "ipython3",
      "version": "3.7.10"
    },
    "colab": {
      "provenance": [],
      "collapsed_sections": [],
      "toc_visible": true,
      "include_colab_link": true
    }
  },
  "nbformat": 4,
  "nbformat_minor": 5
}