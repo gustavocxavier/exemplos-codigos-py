{
  "cells": [
    {
      "cell_type": "markdown",
      "metadata": {
        "id": "view-in-github",
        "colab_type": "text"
      },
      "source": [
        "<a href=\"https://colab.research.google.com/github/gustavocxavier/exemplos-codigos-py/blob/main/previsao_notebook2.ipynb\" target=\"_parent\"><img src=\"https://colab.research.google.com/assets/colab-badge.svg\" alt=\"Open In Colab\"/></a>"
      ]
    },
    {
      "cell_type": "markdown",
      "source": [
        "# Início"
      ],
      "metadata": {
        "id": "VH_qOyyhSgcH"
      },
      "id": "VH_qOyyhSgcH"
    },
    {
      "cell_type": "code",
      "source": [
        "# !pip install matplotlib==3.2.2\n",
        "# !pip install matplotlib --upgrade"
      ],
      "metadata": {
        "id": "USwsfrslWunE"
      },
      "id": "USwsfrslWunE",
      "execution_count": null,
      "outputs": []
    },
    {
      "cell_type": "code",
      "execution_count": 5,
      "id": "9f41826f",
      "metadata": {
        "id": "9f41826f"
      },
      "outputs": [],
      "source": [
        "%matplotlib inline\n",
        "\n",
        "import numpy as np\n",
        "import random\n",
        "import tensorflow as tf\n",
        "from tensorflow import keras\n",
        "import matplotlib.pyplot as plt\n",
        "\n",
        "seed = 0\n",
        "random.seed(seed)\n",
        "np.random.seed(seed)\n",
        "tf.random.set_seed(seed)"
      ]
    },
    {
      "cell_type": "markdown",
      "source": [
        "# Modelo Linear"
      ],
      "metadata": {
        "id": "h4M7DRvrSjT8"
      },
      "id": "h4M7DRvrSjT8"
    },
    {
      "cell_type": "code",
      "execution_count": null,
      "id": "547081ff",
      "metadata": {
        "colab": {
          "base_uri": "https://localhost:8080/",
          "height": 282
        },
        "id": "547081ff",
        "outputId": "2fffb595-523d-4d5b-c152-9b04b0cec311"
      },
      "outputs": [
        {
          "output_type": "execute_result",
          "data": {
            "text/plain": [
              "<matplotlib.lines._AxLine at 0x7fa595d553d0>"
            ]
          },
          "metadata": {},
          "execution_count": 3
        },
        {
          "output_type": "display_data",
          "data": {
            "text/plain": [
              "<Figure size 432x288 with 1 Axes>"
            ],
            "image/png": "[encoded data removed]"
          },
          "metadata": {
            "needs_background": "light"
          }
        }
      ],
      "source": [
        "## Linear Relationship\n",
        "# Create a fictitious data set\n",
        "N = 100\n",
        "x = np.random.normal(loc=0,scale=1,size=N)\n",
        "epsilon = np.random.normal(loc=0,scale=2,size=N)\n",
        "B0 = 2\n",
        "B1 = 3\n",
        "y = B0 + B1*x + epsilon\n",
        "# Plot data\n",
        "plt.scatter(x,y)\n",
        "plt.axline((0,B0),slope=B1,color='k',linewidth=2)\n",
        "\n",
        "# Run a linear regression\n",
        "xx = np.vstack([np.ones(len(x)),x]).T\n",
        "b0,b1 = np.linalg.lstsq(xx,y,rcond=None)[0]\n",
        "# Plot response\n",
        "plt.axline((0,b0),slope=b1,color='r',linewidth=2)"
      ]
    },
    {
      "cell_type": "markdown",
      "source": [
        "# Rede Neural vs Modelo Linear"
      ],
      "metadata": {
        "id": "bLhzwhvXSmd3"
      },
      "id": "bLhzwhvXSmd3"
    },
    {
      "cell_type": "code",
      "execution_count": null,
      "id": "076af921",
      "metadata": {
        "colab": {
          "base_uri": "https://localhost:8080/"
        },
        "id": "076af921",
        "outputId": "13fe720f-acdb-43cf-94af-42085481166a"
      },
      "outputs": [
        {
          "output_type": "stream",
          "name": "stdout",
          "text": [
            "Model: \"sequential\"\n",
            "_________________________________________________________________\n",
            " Layer (type)                Output Shape              Param #   \n",
            "=================================================================\n",
            " dense (Dense)               (None, 2)                 4         \n",
            "                                                                 \n",
            " dense_1 (Dense)             (None, 1)                 3         \n",
            "                                                                 \n",
            "=================================================================\n",
            "Total params: 7\n",
            "Trainable params: 7\n",
            "Non-trainable params: 0\n",
            "_________________________________________________________________\n"
          ]
        }
      ],
      "source": [
        "# Consider a neural network\n",
        "# What is the shape of this network?\n",
        "HIDDEN = 2\n",
        "NN =keras.Sequential()\n",
        "NN.add(keras.layers.Dense(HIDDEN, input_dim=1,activation='relu')) #1 input x\n",
        "NN.add(keras.layers.Dense(1, activation='linear')) #1 output y\n",
        "\n",
        "NN.summary()"
      ]
    },
    {
      "cell_type": "code",
      "source": [
        "# State the loss function and optimizer (adam is a good choice usually)\n",
        "NN.compile(optimizer=keras.optimizers.Adam(),loss='mean_squared_error')\n",
        "\n",
        "# Fit the model to training data\n",
        "EPOCHS = 500 # How long to train for\n",
        "history = NN.fit(x,y,epochs=EPOCHS,verbose=0)\n",
        "# View improvement over epochs\n",
        "plt.plot(history.history['loss'])"
      ],
      "metadata": {
        "colab": {
          "base_uri": "https://localhost:8080/",
          "height": 285
        },
        "id": "Rv4fUIZBSw-G",
        "outputId": "616503b9-c279-4ff0-d05c-9d9b344ca09f"
      },
      "id": "Rv4fUIZBSw-G",
      "execution_count": null,
      "outputs": [
        {
          "output_type": "execute_result",
          "data": {
            "text/plain": [
              "[<matplotlib.lines.Line2D at 0x7fa58d7fc690>]"
            ]
          },
          "metadata": {},
          "execution_count": 5
        },
        {
          "output_type": "display_data",
          "data": {
            "text/plain": [
              "<Figure size 432x288 with 1 Axes>"
            ],
            "image/png": "[encoded data removed]"
          },
          "metadata": {
            "needs_background": "light"
          }
        }
      ]
    },
    {
      "cell_type": "code",
      "execution_count": null,
      "id": "f95ecdaa",
      "metadata": {
        "colab": {
          "base_uri": "https://localhost:8080/",
          "height": 300
        },
        "id": "f95ecdaa",
        "outputId": "940bc2df-af91-4682-b18b-bf17995f3b01"
      },
      "outputs": [
        {
          "output_type": "stream",
          "name": "stdout",
          "text": [
            "16/16 [==============================] - 0s 1ms/step\n"
          ]
        },
        {
          "output_type": "execute_result",
          "data": {
            "text/plain": [
              "[<matplotlib.lines.Line2D at 0x7fa58d7c3050>]"
            ]
          },
          "metadata": {},
          "execution_count": 6
        },
        {
          "output_type": "display_data",
          "data": {
            "text/plain": [
              "<Figure size 432x288 with 1 Axes>"
            ],
            "image/png": "[encoded data removed]"
          },
          "metadata": {
            "needs_background": "light"
          }
        }
      ],
      "source": [
        "# Test values\n",
        "x_test = np.arange(start=min(x),stop=max(x),step=0.01)\n",
        "y_nn = NN.predict(x_test) # Make predictions on the test data\n",
        "\n",
        "# Plot data\n",
        "plt.scatter(x,y,color='k')\n",
        "plt.axline((0,B0),slope=B1,color='k',linewidth=2) # True relationship\n",
        "plt.axline((0,b0),slope=b1,color='r',linewidth=2) # Linear regression\n",
        "plt.plot(x_test,y_nn,color='b',linewidth=2) # Neural network"
      ]
    },
    {
      "cell_type": "code",
      "source": [
        "# Manually compare linear and neural network fits to \"ground truth\" y = B0 + B1*x\n",
        "MSE_lm = np.mean(((b0+b1*x_test) - (B0+B1*x_test))**2)\n",
        "MSE_NN = np.mean((y_nn.T[0,] - (B0+B1*x_test))**2) # Neural network MSE\n",
        "NN_evaluate = NN.evaluate(x_test, B0+B1*x_test, verbose=0) # Another way to compute the MSE (losses)\n",
        "\n",
        "print('MSE da Regressão Linear:', MSE_lm) # Lineaer regression MSE\n",
        "print('MSE da Rede Neural:', MSE_NN) # Neural network MSE\n",
        "# print('Comparação NN vs Modelo Linear:', NN_evaluate) # Another way to compute the MSE (losses)\n",
        "print('NN é superior =', MSE_NN < MSE_lm)"
      ],
      "metadata": {
        "colab": {
          "base_uri": "https://localhost:8080/"
        },
        "id": "60Xd60CUS-aN",
        "outputId": "06745024-c95d-42d2-8a49-55ea846349e1"
      },
      "id": "60Xd60CUS-aN",
      "execution_count": null,
      "outputs": [
        {
          "output_type": "stream",
          "name": "stdout",
          "text": [
            "MSE da Regressão Linear: 0.11610983708073029\n",
            "MSE da Rede Neural: 8.25038218306906\n",
            "NN é superior = False\n"
          ]
        }
      ]
    },
    {
      "cell_type": "code",
      "execution_count": null,
      "id": "404d6fbb",
      "metadata": {
        "colab": {
          "base_uri": "https://localhost:8080/",
          "height": 334
        },
        "id": "404d6fbb",
        "outputId": "f47df1f4-7319-4f4b-c13b-e81e4cf213f9"
      },
      "outputs": [
        {
          "output_type": "stream",
          "name": "stdout",
          "text": [
            "16/16 [==============================] - 0s 5ms/step\n",
            "0.11610983708073029\n",
            "4.802455474201936\n",
            "4.802455425262451\n"
          ]
        },
        {
          "output_type": "display_data",
          "data": {
            "text/plain": [
              "<Figure size 432x288 with 1 Axes>"
            ],
            "image/png": "[encoded data removed]"
          },
          "metadata": {
            "needs_background": "light"
          }
        }
      ],
      "source": [
        "\n",
        "y_nn = NN.predict(x_test) # Make predictions on the test data\n",
        "\n",
        "# Plot data\n",
        "plt.scatter(x,y,color='k')\n",
        "plt.axline((0,B0),slope=B1,color='k',linewidth=2) # True relationship\n",
        "plt.axline((0,b0),slope=b1,color='r',linewidth=2) # Linear regression\n",
        "plt.plot(x_test,y_nn,color='b',linewidth=2) # Neural network\n",
        "\n",
        "# Test statistics\n",
        "print(np.mean(((b0+b1*x_test) - (B0+B1*x_test))**2)) # Lineaer regression MSE\n",
        "print(np.mean((y_nn.T[0,] - (B0+B1*x_test))**2)) # Neural network MSE\n",
        "print(NN.evaluate(x_test, B0+B1*x_test, verbose=0)) # Another way to compute the MSE (losses)"
      ]
    },
    {
      "cell_type": "code",
      "source": [
        "# What happens if we fit this neural network again?\n",
        "# Fit the model to training data\n",
        "EPOCHS = 500 # How long to train for\n",
        "history = NN.fit(x,y,epochs=EPOCHS,verbose=0)\n",
        "## View improvement over epochs\n",
        "plt.plot(history.history['loss'])"
      ],
      "metadata": {
        "colab": {
          "base_uri": "https://localhost:8080/",
          "height": 282
        },
        "id": "wjmhcoDZWnVt",
        "outputId": "2a1260d3-6aae-4e23-a533-81df2dcb23c3"
      },
      "id": "wjmhcoDZWnVt",
      "execution_count": null,
      "outputs": [
        {
          "output_type": "execute_result",
          "data": {
            "text/plain": [
              "[<matplotlib.lines.Line2D at 0x7fa58b0b7d10>]"
            ]
          },
          "metadata": {},
          "execution_count": 23
        },
        {
          "output_type": "display_data",
          "data": {
            "text/plain": [
              "<Figure size 432x288 with 1 Axes>"
            ],
            "image/png": "[encoded data removed]"
          },
          "metadata": {
            "needs_background": "light"
          }
        }
      ]
    },
    {
      "cell_type": "code",
      "execution_count": null,
      "id": "2ca8da13",
      "metadata": {
        "id": "2ca8da13"
      },
      "outputs": [],
      "source": [
        "# Go back to cell 3 and consider other network structures\n",
        "# What are the mathematical formulations for these structures?\n",
        "\n",
        "## In case you want to save or load a model\n",
        "#NN.save('path/to/location')\n",
        "#reload_NN = keras.models.load_model('path/to/location')"
      ]
    },
    {
      "cell_type": "markdown",
      "source": [
        "# Modelo não linear\n",
        "\n"
      ],
      "metadata": {
        "id": "oZUir0hGW33Y"
      },
      "id": "oZUir0hGW33Y"
    },
    {
      "cell_type": "code",
      "execution_count": null,
      "id": "fa76e5b8",
      "metadata": {
        "colab": {
          "base_uri": "https://localhost:8080/",
          "height": 282
        },
        "id": "fa76e5b8",
        "outputId": "23a7b0a6-4c14-4a1d-8612-44c881e2e7ea"
      },
      "outputs": [
        {
          "output_type": "execute_result",
          "data": {
            "text/plain": [
              "[<matplotlib.lines.Line2D at 0x7fed29893d90>]"
            ]
          },
          "metadata": {},
          "execution_count": 8
        },
        {
          "output_type": "display_data",
          "data": {
            "text/plain": [
              "<Figure size 432x288 with 1 Axes>"
            ],
            "image/png": "[encoded data removed]"
          },
          "metadata": {
            "needs_background": "light"
          }
        }
      ],
      "source": [
        "## Nonlinear relationship\n",
        "N = 100\n",
        "x = np.random.normal(loc=0,scale=1,size=N)\n",
        "epsilon = np.random.normal(loc=0,scale=2,size=N)\n",
        "B0 = 2\n",
        "B2 = 3\n",
        "y = B0 + B2*x**2 + epsilon\n",
        "\n",
        "x_test = np.arange(start=min(x),stop=max(x),step=0.01)\n",
        "y_true = B0 + B2*x_test**2\n",
        "\n",
        "plt.scatter(x,y,color='k')\n",
        "plt.plot(x_test,y_true,color='k',linewidth=2)"
      ]
    },
    {
      "cell_type": "code",
      "execution_count": null,
      "id": "e3f51384",
      "metadata": {
        "colab": {
          "base_uri": "https://localhost:8080/",
          "height": 300
        },
        "id": "e3f51384",
        "outputId": "8a6271af-43f6-4207-dbc1-a274ed4e2953"
      },
      "outputs": [
        {
          "output_type": "stream",
          "name": "stdout",
          "text": [
            "[4.3223207667583905, -0.22856061571088893]\n",
            "54.39322909679113\n"
          ]
        },
        {
          "output_type": "display_data",
          "data": {
            "text/plain": [
              "<Figure size 432x288 with 1 Axes>"
            ],
            "image/png": "[encoded data removed]"
          },
          "metadata": {
            "needs_background": "light"
          }
        }
      ],
      "source": [
        "# Run a linear regression\n",
        "xx = np.vstack([np.ones(len(x)),x]).T\n",
        "b0,b1 = np.linalg.lstsq(xx,y,rcond=None)[0]\n",
        "print([b0,b1])\n",
        "\n",
        "# Plot response\n",
        "plt.scatter(x,y,color='k')\n",
        "plt.plot(x_test,y_true,color='k',linewidth=2)\n",
        "plt.axline((0,b0),slope=b1,color='r',linewidth=2)\n",
        "\n",
        "# Compute MSE\n",
        "print(np.mean(((b0+b1*x_test) - y_true)**2))"
      ]
    },
    {
      "cell_type": "code",
      "execution_count": null,
      "id": "7586f371",
      "metadata": {
        "colab": {
          "base_uri": "https://localhost:8080/",
          "height": 300
        },
        "id": "7586f371",
        "outputId": "b67143bc-e5ce-4a2a-87dd-ebdb20d99797"
      },
      "outputs": [
        {
          "output_type": "stream",
          "name": "stdout",
          "text": [
            "[1.666171843651953, 0.2392088743603753, 2.949884040467059]\n",
            "0.40933707091274474\n"
          ]
        },
        {
          "output_type": "display_data",
          "data": {
            "text/plain": [
              "<Figure size 432x288 with 1 Axes>"
            ],
            "image/png": "[encoded data removed]"
          },
          "metadata": {
            "needs_background": "light"
          }
        }
      ],
      "source": [
        "# Run a quadratic regression (since we know this is the ground truth)\n",
        "xx = np.vstack([np.ones(len(x)),x,x**2]).T\n",
        "b0,b1,b2 = np.linalg.lstsq(xx,y,rcond=None)[0]\n",
        "print([b0,b1,b2])\n",
        "\n",
        "# Predict on test data\n",
        "y_quad = b0 + b1*x_test + b2*x_test**2\n",
        "\n",
        "# Plot response\n",
        "plt.scatter(x,y,color='k')\n",
        "plt.plot(x_test,y_true,color='k',linewidth=2)\n",
        "plt.plot(x_test,y_quad,color='r',linewidth=2)\n",
        "\n",
        "# Compute MSE\n",
        "print(np.mean((y_quad - y_true)**2))"
      ]
    },
    {
      "cell_type": "markdown",
      "source": [
        "# Rede Neural vs Modelo Não Linear"
      ],
      "metadata": {
        "id": "gTjYZtwtXCGV"
      },
      "id": "gTjYZtwtXCGV"
    },
    {
      "cell_type": "code",
      "execution_count": null,
      "id": "045f0ae4",
      "metadata": {
        "colab": {
          "base_uri": "https://localhost:8080/",
          "height": 773
        },
        "id": "045f0ae4",
        "outputId": "e5e931a3-69e4-46b6-d2df-fabb88225984"
      },
      "outputs": [
        {
          "output_type": "stream",
          "name": "stdout",
          "text": [
            "Model: \"sequential_1\"\n",
            "_________________________________________________________________\n",
            " Layer (type)                Output Shape              Param #   \n",
            "=================================================================\n",
            " dense_2 (Dense)             (None, 16)                32        \n",
            "                                                                 \n",
            " dense_3 (Dense)             (None, 1)                 17        \n",
            "                                                                 \n",
            "=================================================================\n",
            "Total params: 49\n",
            "Trainable params: 49\n",
            "Non-trainable params: 0\n",
            "_________________________________________________________________\n"
          ]
        },
        {
          "output_type": "display_data",
          "data": {
            "text/plain": [
              "<Figure size 432x288 with 1 Axes>"
            ],
            "image/png": "[encoded data removed]"
          },
          "metadata": {
            "needs_background": "light"
          }
        },
        {
          "output_type": "stream",
          "name": "stdout",
          "text": [
            "16/16 [==============================] - 0s 2ms/step\n",
            "54.17644958406122\n"
          ]
        },
        {
          "output_type": "display_data",
          "data": {
            "text/plain": [
              "<Figure size 432x288 with 1 Axes>"
            ],
            "image/png": "[encoded data removed]"
          },
          "metadata": {
            "needs_background": "light"
          }
        }
      ],
      "source": [
        "# Consider a neural network\n",
        "# What is the shape of this network?\n",
        "HIDDEN = 16\n",
        "NN =keras.Sequential()\n",
        "NN.add(keras.layers.Dense(HIDDEN, input_dim=1,activation='relu')) #1 input x\n",
        "NN.add(keras.layers.Dense(1, activation='linear')) #1 output y\n",
        "\n",
        "NN.summary()\n",
        "\n",
        "# State the loss function and optimizer (adam is a good choice usually)\n",
        "NN.compile(optimizer=keras.optimizers.Adam(),loss='mean_squared_error')\n",
        "\n",
        "# Fit the model to training data\n",
        "EPOCHS = 500 # How long to train for\n",
        "history = NN.fit(x,y,epochs=EPOCHS,verbose=0)\n",
        "# View improvement over epochs\n",
        "plt.plot(history.history['loss'])\n",
        "plt.show()\n",
        "\n",
        "# Make predictions on the test data\n",
        "y_NN = NN.predict(x_test)\n",
        "\n",
        "# Plot response\n",
        "plt.scatter(x,y,color='k')\n",
        "plt.plot(x_test,y_true,color='k',linewidth=2)\n",
        "plt.plot(x_test,y_quad,color='r',linewidth=2)\n",
        "plt.plot(x_test,y_NN,color='b',linewidth=2)\n",
        "\n",
        "# Compute MSE\n",
        "print(np.mean((y_NN - y_true)**2))"
      ]
    },
    {
      "cell_type": "markdown",
      "source": [
        "# Deep Neural Network"
      ],
      "metadata": {
        "id": "u0PYrM8fXXzg"
      },
      "id": "u0PYrM8fXXzg"
    },
    {
      "cell_type": "code",
      "execution_count": null,
      "id": "715b5017",
      "metadata": {
        "colab": {
          "base_uri": "https://localhost:8080/",
          "height": 808
        },
        "id": "715b5017",
        "outputId": "a38018a0-05b1-4b55-eaa8-e4d58aab0e39"
      },
      "outputs": [
        {
          "output_type": "stream",
          "name": "stdout",
          "text": [
            "Model: \"sequential_2\"\n",
            "_________________________________________________________________\n",
            " Layer (type)                Output Shape              Param #   \n",
            "=================================================================\n",
            " dense_4 (Dense)             (None, 16)                32        \n",
            "                                                                 \n",
            " dense_5 (Dense)             (None, 16)                272       \n",
            "                                                                 \n",
            " dense_6 (Dense)             (None, 1)                 17        \n",
            "                                                                 \n",
            "=================================================================\n",
            "Total params: 321\n",
            "Trainable params: 321\n",
            "Non-trainable params: 0\n",
            "_________________________________________________________________\n"
          ]
        },
        {
          "output_type": "display_data",
          "data": {
            "text/plain": [
              "<Figure size 432x288 with 1 Axes>"
            ],
            "image/png": "[encoded data removed]"
          },
          "metadata": {
            "needs_background": "light"
          }
        },
        {
          "output_type": "stream",
          "name": "stdout",
          "text": [
            "16/16 [==============================] - 0s 2ms/step\n",
            "73.81824071420971\n"
          ]
        },
        {
          "output_type": "display_data",
          "data": {
            "text/plain": [
              "<Figure size 432x288 with 1 Axes>"
            ],
            "image/png": "[encoded data removed]"
          },
          "metadata": {
            "needs_background": "light"
          }
        }
      ],
      "source": [
        "# How about a *deep* neural network\n",
        "# What is the structure of this neural network?\n",
        "# Consider a neural network\n",
        "# What is the shape of this network?\n",
        "HIDDEN = 16\n",
        "NN =keras.Sequential()\n",
        "NN.add(keras.layers.Dense(HIDDEN, input_dim=1,activation='relu')) #1 input x\n",
        "NN.add(keras.layers.Dense(HIDDEN, activation='relu'))\n",
        "NN.add(keras.layers.Dense(1, activation='linear')) #1 output y\n",
        "\n",
        "NN.summary()\n",
        "\n",
        "# State the loss function and optimizer (adam is a good choice usually)\n",
        "NN.compile(optimizer=keras.optimizers.Adam(),loss='mean_squared_error')\n",
        "\n",
        "# Fit the model to training data\n",
        "EPOCHS = 1000 # How long to train for (let this train longer)\n",
        "history = NN.fit(x,y,epochs=EPOCHS,verbose=0)\n",
        "# View improvement over epochs\n",
        "plt.plot(history.history['loss'])\n",
        "plt.show()\n",
        "\n",
        "# Make predictions on the test data\n",
        "y_NN = NN.predict(x_test)\n",
        "\n",
        "# Plot response\n",
        "plt.scatter(x,y,color='k')\n",
        "plt.plot(x_test,y_true,color='k',linewidth=2)\n",
        "plt.plot(x_test,y_quad,color='r',linewidth=2)\n",
        "plt.plot(x_test,y_NN,color='b',linewidth=2)\n",
        "\n",
        "# Compute MSE\n",
        "print(np.mean((y_NN - y_true)**2))\n",
        "\n",
        "# Let's go back and consider other network structures\n",
        "# What are the mathematical formulations for these structures?"
      ]
    },
    {
      "cell_type": "code",
      "execution_count": null,
      "id": "bd71f18c",
      "metadata": {
        "colab": {
          "base_uri": "https://localhost:8080/",
          "height": 577
        },
        "id": "bd71f18c",
        "outputId": "bd9d1e47-e221-40b6-ee14-c901a305fda7"
      },
      "outputs": [
        {
          "output_type": "stream",
          "name": "stdout",
          "text": [
            "Model: \"sequential_3\"\n",
            "_________________________________________________________________\n",
            " Layer (type)                Output Shape              Param #   \n",
            "=================================================================\n",
            " dense_7 (Dense)             (None, 16)                336       \n",
            "                                                                 \n",
            " dense_8 (Dense)             (None, 16)                272       \n",
            "                                                                 \n",
            " dense_9 (Dense)             (None, 1)                 17        \n",
            "                                                                 \n",
            "=================================================================\n",
            "Total params: 625\n",
            "Trainable params: 625\n",
            "Non-trainable params: 0\n",
            "_________________________________________________________________\n"
          ]
        },
        {
          "output_type": "display_data",
          "data": {
            "text/plain": [
              "<Figure size 432x288 with 1 Axes>"
            ],
            "image/png": "[encoded data removed]"
          },
          "metadata": {
            "needs_background": "light"
          }
        },
        {
          "output_type": "stream",
          "name": "stdout",
          "text": [
            "0.00022051986888982356\n",
            "2/2 [==============================] - 0s 7ms/step\n",
            "5.0261430740356445\n"
          ]
        }
      ],
      "source": [
        "## But be wary of overfitting\n",
        "# Generate random data\n",
        "N = 100\n",
        "M = 20 # Larger number of inputs\n",
        "x = np.random.normal(loc=0,scale=1,size=(N,M))\n",
        "epsilon = np.random.normal(loc=0,scale=1,size=N)\n",
        "B0 = 0\n",
        "B = np.hstack([3,0.75,np.zeros(M-2)])\n",
        "y = B0 + x@B + epsilon\n",
        "\n",
        "np.column_stack((y,x)) # To concatenate the data\n",
        "\n",
        "train = np.random.choice(int(N) , size=int(N/2) , replace=False)\n",
        "\n",
        "HIDDEN = 16\n",
        "NN =keras.Sequential()\n",
        "NN.add(keras.layers.Dense(HIDDEN, input_dim=M,activation='tanh')) #M inputs x\n",
        "NN.add(keras.layers.Dense(HIDDEN, activation='tanh'))\n",
        "NN.add(keras.layers.Dense(1, activation='linear')) #1 output y\n",
        "\n",
        "NN.summary()\n",
        "\n",
        "# State the loss function and optimizer (adam is a good choice usually)\n",
        "NN.compile(optimizer=keras.optimizers.Adam(),loss='mean_squared_error')\n",
        "\n",
        "# Fit the model to training data\n",
        "EPOCHS = 1000 # How long to train for (let this train longer)\n",
        "history = NN.fit(x[train,],y[train],epochs=EPOCHS,verbose=0) # Specifically on training data\n",
        "# View improvement over epochs\n",
        "plt.plot(history.history['loss'])\n",
        "plt.show()\n",
        "print(history.history['loss'][-1]) # Training MSE\n",
        "\n",
        "# Make predictions on the test data\n",
        "x_test = np.delete(x , train , axis=0)\n",
        "y_test = NN.predict(x_test)\n",
        "y_true = np.delete(y , train)\n",
        "print(NN.evaluate(x_test , y_true , verbose=0)) # Test MSE\n",
        "# If we have test error much larger than the training error then we are overfitting"
      ]
    },
    {
      "cell_type": "code",
      "execution_count": null,
      "id": "522c65e7",
      "metadata": {
        "colab": {
          "base_uri": "https://localhost:8080/",
          "height": 334
        },
        "id": "522c65e7",
        "outputId": "0fd1d274-2622-41c7-f3c2-5c21c06babe4"
      },
      "outputs": [
        {
          "output_type": "display_data",
          "data": {
            "text/plain": [
              "<Figure size 432x288 with 1 Axes>"
            ],
            "image/png": "[encoded data removed]"
          },
          "metadata": {
            "needs_background": "light"
          }
        },
        {
          "output_type": "stream",
          "name": "stdout",
          "text": [
            "8.963774817891124e-13\n",
            "0.0012979109305888414\n",
            "2/2 [==============================] - 0s 5ms/step\n",
            "5.103860378265381\n"
          ]
        }
      ],
      "source": [
        "# Evaluate fit earlier than test data:\n",
        "history = NN.fit(x[train,],y[train],epochs=EPOCHS,validation_split=0.2,verbose=0) # Split training data to do an early \"test\"\n",
        "# View improvement over epochs\n",
        "plt.plot(history.history['loss'])\n",
        "plt.plot(history.history['val_loss'])\n",
        "plt.legend(['Training','Validation'])\n",
        "plt.show()\n",
        "print(history.history['loss'][-1]) # Training MSE\n",
        "print(history.history['val_loss'][-1]) # Validation loss\n",
        "\n",
        "# Make predictions on the test data\n",
        "x_test = np.delete(x , train , axis=0)\n",
        "y_test = NN.predict(x_test)\n",
        "y_true = np.delete(y , train)\n",
        "print(NN.evaluate(x_test , y_true , verbose=0)) # Test MSE\n",
        "# If we have test error much larger than the training error then we are overfitting\n",
        "\n",
        "# Go back up to see if we can do better with different networks"
      ]
    },
    {
      "cell_type": "markdown",
      "source": [
        "# Código Prático"
      ],
      "metadata": {
        "id": "zx_PK_MiYKEp"
      },
      "id": "zx_PK_MiYKEp"
    },
    {
      "cell_type": "code",
      "source": [],
      "metadata": {
        "id": "uMiel5yCYQmi"
      },
      "id": "uMiel5yCYQmi",
      "execution_count": 5,
      "outputs": []
    },
    {
      "cell_type": "code",
      "execution_count": 6,
      "id": "72ae4def",
      "metadata": {
        "colab": {
          "base_uri": "https://localhost:8080/"
        },
        "id": "72ae4def",
        "outputId": "c5f1c483-185c-4ad4-8c9d-c2786537f2ef"
      },
      "outputs": [
        {
          "output_type": "stream",
          "name": "stdout",
          "text": [
            "Looking in indexes: https://pypi.org/simple, https://us-python.pkg.dev/colab-wheels/public/simple/\n",
            "Requirement already satisfied: pandas_datareader in /usr/local/lib/python3.7/dist-packages (0.10.0)\n",
            "Requirement already satisfied: lxml in /usr/local/lib/python3.7/dist-packages (from pandas_datareader) (4.9.1)\n",
            "Requirement already satisfied: pandas>=0.23 in /usr/local/lib/python3.7/dist-packages (from pandas_datareader) (1.3.5)\n",
            "Requirement already satisfied: requests>=2.19.0 in /usr/local/lib/python3.7/dist-packages (from pandas_datareader) (2.23.0)\n",
            "Requirement already satisfied: pytz>=2017.3 in /usr/local/lib/python3.7/dist-packages (from pandas>=0.23->pandas_datareader) (2022.5)\n",
            "Requirement already satisfied: numpy>=1.17.3 in /usr/local/lib/python3.7/dist-packages (from pandas>=0.23->pandas_datareader) (1.21.6)\n",
            "Requirement already satisfied: python-dateutil>=2.7.3 in /usr/local/lib/python3.7/dist-packages (from pandas>=0.23->pandas_datareader) (2.8.2)\n",
            "Requirement already satisfied: six>=1.5 in /usr/local/lib/python3.7/dist-packages (from python-dateutil>=2.7.3->pandas>=0.23->pandas_datareader) (1.15.0)\n",
            "Requirement already satisfied: chardet<4,>=3.0.2 in /usr/local/lib/python3.7/dist-packages (from requests>=2.19.0->pandas_datareader) (3.0.4)\n",
            "Requirement already satisfied: idna<3,>=2.5 in /usr/local/lib/python3.7/dist-packages (from requests>=2.19.0->pandas_datareader) (2.10)\n",
            "Requirement already satisfied: urllib3!=1.25.0,!=1.25.1,<1.26,>=1.21.1 in /usr/local/lib/python3.7/dist-packages (from requests>=2.19.0->pandas_datareader) (1.24.3)\n",
            "Requirement already satisfied: certifi>=2017.4.17 in /usr/local/lib/python3.7/dist-packages (from requests>=2.19.0->pandas_datareader) (2022.9.24)\n"
          ]
        }
      ],
      "source": [
        "!pip install pandas_datareader --upgrade"
      ]
    },
    {
      "cell_type": "code",
      "source": [
        "## Feedforward NN for financial data\n",
        "# Download financial data:\n",
        "from pandas_datareader.data import DataReader\n",
        "from datetime import datetime\n",
        "import pandas as pd\n",
        "\n",
        "# myData = DataReader([\"IBM\"],\"yahoo\",datetime(2010,1,1),datetime(2021,12,31)) #IBM chosen at random\n",
        "# IBM = myData[\"Adj Close\"][\"IBM\"]\n",
        "myData = DataReader([\"AAPL\"],\"yahoo\",datetime(2010,1,1),datetime(2021,12,31)) \n",
        "AAPL = myData[\"Adj Close\"][\"AAPL\"]\n",
        "\n",
        "myData = DataReader([\"MSFT\"],\"yahoo\",datetime(2010,1,1),datetime(2021,12,31)) \n",
        "MSFT = myData[\"Adj Close\"][\"MSFT\"]"
      ],
      "metadata": {
        "id": "UBRS4eWE5mcF"
      },
      "id": "UBRS4eWE5mcF",
      "execution_count": 7,
      "outputs": []
    },
    {
      "cell_type": "code",
      "source": [
        "r = np.log(AAPL) - np.log(AAPL.shift(1)) # Daily log return\n",
        "r = r.to_numpy()\n",
        "r = np.delete(r , 0) # Remove first date because 1 lag in returns"
      ],
      "metadata": {
        "id": "uimIVLAoeiUk"
      },
      "id": "uimIVLAoeiUk",
      "execution_count": 8,
      "outputs": []
    },
    {
      "cell_type": "code",
      "source": [
        "df = pd.DataFrame({'AAPL': AAPL,'MSFT': MSFT})\n",
        "df_r = np.log(df) - np.log(df.shift(1))\n",
        "df_r[['AAPL_1', 'MSFT_1']] = df_r.shift(1)\n",
        "df_r[['AAPL_2', 'MSFT_2']] = df_r[['AAPL', 'MSFT']].shift(2)\n",
        "df_r = df_r.dropna()\n",
        "df_r.head(5)"
      ],
      "metadata": {
        "colab": {
          "base_uri": "https://localhost:8080/",
          "height": 237
        },
        "id": "to7qJXP5Atif",
        "outputId": "51deb567-c607-4c28-d81c-3c6d9379488f"
      },
      "id": "to7qJXP5Atif",
      "execution_count": 9,
      "outputs": [
        {
          "output_type": "execute_result",
          "data": {
            "text/plain": [
              "                AAPL      MSFT    AAPL_1    MSFT_1    AAPL_2    MSFT_2\n",
              "Date                                                                  \n",
              "2010-01-07 -0.001850 -0.010454 -0.016034 -0.006156  0.001727  0.000323\n",
              "2010-01-08  0.006626  0.006873 -0.001850 -0.010454 -0.016034 -0.006156\n",
              "2010-01-11 -0.008861 -0.012802  0.006626  0.006873 -0.001850 -0.010454\n",
              "2010-01-12 -0.011440 -0.006629 -0.008861 -0.012802  0.006626  0.006873\n",
              "2010-01-13  0.014007  0.009269 -0.011440 -0.006629 -0.008861 -0.012802"
            ],
            "text/html": [
              "\n",
              "  <div id=\"df-692894f7-9f77-48ab-bb78-c43a64b2dc14\">\n",
              "    <div class=\"colab-df-container\">\n",
              "      <div>\n",
              "<style scoped>\n",
              "    .dataframe tbody tr th:only-of-type {\n",
              "        vertical-align: middle;\n",
              "    }\n",
              "\n",
              "    .dataframe tbody tr th {\n",
              "        vertical-align: top;\n",
              "    }\n",
              "\n",
              "    .dataframe thead th {\n",
              "        text-align: right;\n",
              "    }\n",
              "</style>\n",
              "<table border=\"1\" class=\"dataframe\">\n",
              "  <thead>\n",
              "    <tr style=\"text-align: right;\">\n",
              "      <th></th>\n",
              "      <th>AAPL</th>\n",
              "      <th>MSFT</th>\n",
              "      <th>AAPL_1</th>\n",
              "      <th>MSFT_1</th>\n",
              "      <th>AAPL_2</th>\n",
              "      <th>MSFT_2</th>\n",
              "    </tr>\n",
              "    <tr>\n",
              "      <th>Date</th>\n",
              "      <th></th>\n",
              "      <th></th>\n",
              "      <th></th>\n",
              "      <th></th>\n",
              "      <th></th>\n",
              "      <th></th>\n",
              "    </tr>\n",
              "  </thead>\n",
              "  <tbody>\n",
              "    <tr>\n",
              "      <th>2010-01-07</th>\n",
              "      <td>-0.001850</td>\n",
              "      <td>-0.010454</td>\n",
              "      <td>-0.016034</td>\n",
              "      <td>-0.006156</td>\n",
              "      <td>0.001727</td>\n",
              "      <td>0.000323</td>\n",
              "    </tr>\n",
              "    <tr>\n",
              "      <th>2010-01-08</th>\n",
              "      <td>0.006626</td>\n",
              "      <td>0.006873</td>\n",
              "      <td>-0.001850</td>\n",
              "      <td>-0.010454</td>\n",
              "      <td>-0.016034</td>\n",
              "      <td>-0.006156</td>\n",
              "    </tr>\n",
              "    <tr>\n",
              "      <th>2010-01-11</th>\n",
              "      <td>-0.008861</td>\n",
              "      <td>-0.012802</td>\n",
              "      <td>0.006626</td>\n",
              "      <td>0.006873</td>\n",
              "      <td>-0.001850</td>\n",
              "      <td>-0.010454</td>\n",
              "    </tr>\n",
              "    <tr>\n",
              "      <th>2010-01-12</th>\n",
              "      <td>-0.011440</td>\n",
              "      <td>-0.006629</td>\n",
              "      <td>-0.008861</td>\n",
              "      <td>-0.012802</td>\n",
              "      <td>0.006626</td>\n",
              "      <td>0.006873</td>\n",
              "    </tr>\n",
              "    <tr>\n",
              "      <th>2010-01-13</th>\n",
              "      <td>0.014007</td>\n",
              "      <td>0.009269</td>\n",
              "      <td>-0.011440</td>\n",
              "      <td>-0.006629</td>\n",
              "      <td>-0.008861</td>\n",
              "      <td>-0.012802</td>\n",
              "    </tr>\n",
              "  </tbody>\n",
              "</table>\n",
              "</div>\n",
              "      <button class=\"colab-df-convert\" onclick=\"convertToInteractive('df-692894f7-9f77-48ab-bb78-c43a64b2dc14')\"\n",
              "              title=\"Convert this dataframe to an interactive table.\"\n",
              "              style=\"display:none;\">\n",
              "        \n",
              "  <svg xmlns=\"http://www.w3.org/2000/svg\" height=\"24px\"viewBox=\"0 0 24 24\"\n",
              "       width=\"24px\">\n",
              "    <path d=\"M0 0h24v24H0V0z\" fill=\"none\"/>\n",
              "    <path d=\"M18.56 5.44l.94 2.06.94-2.06 2.06-.94-2.06-.94-.94-2.06-.94 2.06-2.06.94zm-11 1L8.5 8.5l.94-2.06 2.06-.94-2.06-.94L8.5 2.5l-.94 2.06-2.06.94zm10 10l.94 2.06.94-2.06 2.06-.94-2.06-.94-.94-2.06-.94 2.06-2.06.94z\"/><path d=\"M17.41 7.96l-1.37-1.37c-.4-.4-.92-.59-1.43-.59-.52 0-1.04.2-1.43.59L10.3 9.45l-7.72 7.72c-.78.78-.78 2.05 0 2.83L4 21.41c.39.39.9.59 1.41.59.51 0 1.02-.2 1.41-.59l7.78-7.78 2.81-2.81c.8-.78.8-2.07 0-2.86zM5.41 20L4 18.59l7.72-7.72 1.47 1.35L5.41 20z\"/>\n",
              "  </svg>\n",
              "      </button>\n",
              "      \n",
              "  <style>\n",
              "    .colab-df-container {\n",
              "      display:flex;\n",
              "      flex-wrap:wrap;\n",
              "      gap: 12px;\n",
              "    }\n",
              "\n",
              "    .colab-df-convert {\n",
              "      background-color: #E8F0FE;\n",
              "      border: none;\n",
              "      border-radius: 50%;\n",
              "      cursor: pointer;\n",
              "      display: none;\n",
              "      fill: #1967D2;\n",
              "      height: 32px;\n",
              "      padding: 0 0 0 0;\n",
              "      width: 32px;\n",
              "    }\n",
              "\n",
              "    .colab-df-convert:hover {\n",
              "      background-color: #E2EBFA;\n",
              "      box-shadow: 0px 1px 2px rgba(60, 64, 67, 0.3), 0px 1px 3px 1px rgba(60, 64, 67, 0.15);\n",
              "      fill: #174EA6;\n",
              "    }\n",
              "\n",
              "    [theme=dark] .colab-df-convert {\n",
              "      background-color: #3B4455;\n",
              "      fill: #D2E3FC;\n",
              "    }\n",
              "\n",
              "    [theme=dark] .colab-df-convert:hover {\n",
              "      background-color: #434B5C;\n",
              "      box-shadow: 0px 1px 3px 1px rgba(0, 0, 0, 0.15);\n",
              "      filter: drop-shadow(0px 1px 2px rgba(0, 0, 0, 0.3));\n",
              "      fill: #FFFFFF;\n",
              "    }\n",
              "  </style>\n",
              "\n",
              "      <script>\n",
              "        const buttonEl =\n",
              "          document.querySelector('#df-692894f7-9f77-48ab-bb78-c43a64b2dc14 button.colab-df-convert');\n",
              "        buttonEl.style.display =\n",
              "          google.colab.kernel.accessAllowed ? 'block' : 'none';\n",
              "\n",
              "        async function convertToInteractive(key) {\n",
              "          const element = document.querySelector('#df-692894f7-9f77-48ab-bb78-c43a64b2dc14');\n",
              "          const dataTable =\n",
              "            await google.colab.kernel.invokeFunction('convertToInteractive',\n",
              "                                                     [key], {});\n",
              "          if (!dataTable) return;\n",
              "\n",
              "          const docLinkHtml = 'Like what you see? Visit the ' +\n",
              "            '<a target=\"_blank\" href=https://colab.research.google.com/notebooks/data_table.ipynb>data table notebook</a>'\n",
              "            + ' to learn more about interactive tables.';\n",
              "          element.innerHTML = '';\n",
              "          dataTable['output_type'] = 'display_data';\n",
              "          await google.colab.output.renderOutput(dataTable, element);\n",
              "          const docLink = document.createElement('div');\n",
              "          docLink.innerHTML = docLinkHtml;\n",
              "          element.appendChild(docLink);\n",
              "        }\n",
              "      </script>\n",
              "    </div>\n",
              "  </div>\n",
              "  "
            ]
          },
          "metadata": {},
          "execution_count": 9
        }
      ]
    },
    {
      "cell_type": "code",
      "source": [
        "X, y = df_r[['AAPL_1', 'AAPL_2', 'MSFT_1','MSFT_2']], df_r[['AAPL']]\n",
        "display(X.head())\n",
        "display(y.head())\n",
        "display(X.tail())\n",
        "display(y.tail())"
      ],
      "metadata": {
        "colab": {
          "base_uri": "https://localhost:8080/",
          "height": 899
        },
        "id": "9kjvBmb5C6oe",
        "outputId": "5e7ad9f7-754a-4de4-a709-461f82c8ba70"
      },
      "id": "9kjvBmb5C6oe",
      "execution_count": 10,
      "outputs": [
        {
          "output_type": "display_data",
          "data": {
            "text/plain": [
              "              AAPL_1    AAPL_2    MSFT_1    MSFT_2\n",
              "Date                                              \n",
              "2010-01-07 -0.016034  0.001727 -0.006156  0.000323\n",
              "2010-01-08 -0.001850 -0.016034 -0.010454 -0.006156\n",
              "2010-01-11  0.006626 -0.001850  0.006873 -0.010454\n",
              "2010-01-12 -0.008861  0.006626 -0.012802  0.006873\n",
              "2010-01-13 -0.011440 -0.008861 -0.006629 -0.012802"
            ],
            "text/html": [
              "\n",
              "  <div id=\"df-2e078906-990f-4ba1-88a3-ee37dbf90fc0\">\n",
              "    <div class=\"colab-df-container\">\n",
              "      <div>\n",
              "<style scoped>\n",
              "    .dataframe tbody tr th:only-of-type {\n",
              "        vertical-align: middle;\n",
              "    }\n",
              "\n",
              "    .dataframe tbody tr th {\n",
              "        vertical-align: top;\n",
              "    }\n",
              "\n",
              "    .dataframe thead th {\n",
              "        text-align: right;\n",
              "    }\n",
              "</style>\n",
              "<table border=\"1\" class=\"dataframe\">\n",
              "  <thead>\n",
              "    <tr style=\"text-align: right;\">\n",
              "      <th></th>\n",
              "      <th>AAPL_1</th>\n",
              "      <th>AAPL_2</th>\n",
              "      <th>MSFT_1</th>\n",
              "      <th>MSFT_2</th>\n",
              "    </tr>\n",
              "    <tr>\n",
              "      <th>Date</th>\n",
              "      <th></th>\n",
              "      <th></th>\n",
              "      <th></th>\n",
              "      <th></th>\n",
              "    </tr>\n",
              "  </thead>\n",
              "  <tbody>\n",
              "    <tr>\n",
              "      <th>2010-01-07</th>\n",
              "      <td>-0.016034</td>\n",
              "      <td>0.001727</td>\n",
              "      <td>-0.006156</td>\n",
              "      <td>0.000323</td>\n",
              "    </tr>\n",
              "    <tr>\n",
              "      <th>2010-01-08</th>\n",
              "      <td>-0.001850</td>\n",
              "      <td>-0.016034</td>\n",
              "      <td>-0.010454</td>\n",
              "      <td>-0.006156</td>\n",
              "    </tr>\n",
              "    <tr>\n",
              "      <th>2010-01-11</th>\n",
              "      <td>0.006626</td>\n",
              "      <td>-0.001850</td>\n",
              "      <td>0.006873</td>\n",
              "      <td>-0.010454</td>\n",
              "    </tr>\n",
              "    <tr>\n",
              "      <th>2010-01-12</th>\n",
              "      <td>-0.008861</td>\n",
              "      <td>0.006626</td>\n",
              "      <td>-0.012802</td>\n",
              "      <td>0.006873</td>\n",
              "    </tr>\n",
              "    <tr>\n",
              "      <th>2010-01-13</th>\n",
              "      <td>-0.011440</td>\n",
              "      <td>-0.008861</td>\n",
              "      <td>-0.006629</td>\n",
              "      <td>-0.012802</td>\n",
              "    </tr>\n",
              "  </tbody>\n",
              "</table>\n",
              "</div>\n",
              "      <button class=\"colab-df-convert\" onclick=\"convertToInteractive('df-2e078906-990f-4ba1-88a3-ee37dbf90fc0')\"\n",
              "              title=\"Convert this dataframe to an interactive table.\"\n",
              "              style=\"display:none;\">\n",
              "        \n",
              "  <svg xmlns=\"http://www.w3.org/2000/svg\" height=\"24px\"viewBox=\"0 0 24 24\"\n",
              "       width=\"24px\">\n",
              "    <path d=\"M0 0h24v24H0V0z\" fill=\"none\"/>\n",
              "    <path d=\"M18.56 5.44l.94 2.06.94-2.06 2.06-.94-2.06-.94-.94-2.06-.94 2.06-2.06.94zm-11 1L8.5 8.5l.94-2.06 2.06-.94-2.06-.94L8.5 2.5l-.94 2.06-2.06.94zm10 10l.94 2.06.94-2.06 2.06-.94-2.06-.94-.94-2.06-.94 2.06-2.06.94z\"/><path d=\"M17.41 7.96l-1.37-1.37c-.4-.4-.92-.59-1.43-.59-.52 0-1.04.2-1.43.59L10.3 9.45l-7.72 7.72c-.78.78-.78 2.05 0 2.83L4 21.41c.39.39.9.59 1.41.59.51 0 1.02-.2 1.41-.59l7.78-7.78 2.81-2.81c.8-.78.8-2.07 0-2.86zM5.41 20L4 18.59l7.72-7.72 1.47 1.35L5.41 20z\"/>\n",
              "  </svg>\n",
              "      </button>\n",
              "      \n",
              "  <style>\n",
              "    .colab-df-container {\n",
              "      display:flex;\n",
              "      flex-wrap:wrap;\n",
              "      gap: 12px;\n",
              "    }\n",
              "\n",
              "    .colab-df-convert {\n",
              "      background-color: #E8F0FE;\n",
              "      border: none;\n",
              "      border-radius: 50%;\n",
              "      cursor: pointer;\n",
              "      display: none;\n",
              "      fill: #1967D2;\n",
              "      height: 32px;\n",
              "      padding: 0 0 0 0;\n",
              "      width: 32px;\n",
              "    }\n",
              "\n",
              "    .colab-df-convert:hover {\n",
              "      background-color: #E2EBFA;\n",
              "      box-shadow: 0px 1px 2px rgba(60, 64, 67, 0.3), 0px 1px 3px 1px rgba(60, 64, 67, 0.15);\n",
              "      fill: #174EA6;\n",
              "    }\n",
              "\n",
              "    [theme=dark] .colab-df-convert {\n",
              "      background-color: #3B4455;\n",
              "      fill: #D2E3FC;\n",
              "    }\n",
              "\n",
              "    [theme=dark] .colab-df-convert:hover {\n",
              "      background-color: #434B5C;\n",
              "      box-shadow: 0px 1px 3px 1px rgba(0, 0, 0, 0.15);\n",
              "      filter: drop-shadow(0px 1px 2px rgba(0, 0, 0, 0.3));\n",
              "      fill: #FFFFFF;\n",
              "    }\n",
              "  </style>\n",
              "\n",
              "      <script>\n",
              "        const buttonEl =\n",
              "          document.querySelector('#df-2e078906-990f-4ba1-88a3-ee37dbf90fc0 button.colab-df-convert');\n",
              "        buttonEl.style.display =\n",
              "          google.colab.kernel.accessAllowed ? 'block' : 'none';\n",
              "\n",
              "        async function convertToInteractive(key) {\n",
              "          const element = document.querySelector('#df-2e078906-990f-4ba1-88a3-ee37dbf90fc0');\n",
              "          const dataTable =\n",
              "            await google.colab.kernel.invokeFunction('convertToInteractive',\n",
              "                                                     [key], {});\n",
              "          if (!dataTable) return;\n",
              "\n",
              "          const docLinkHtml = 'Like what you see? Visit the ' +\n",
              "            '<a target=\"_blank\" href=https://colab.research.google.com/notebooks/data_table.ipynb>data table notebook</a>'\n",
              "            + ' to learn more about interactive tables.';\n",
              "          element.innerHTML = '';\n",
              "          dataTable['output_type'] = 'display_data';\n",
              "          await google.colab.output.renderOutput(dataTable, element);\n",
              "          const docLink = document.createElement('div');\n",
              "          docLink.innerHTML = docLinkHtml;\n",
              "          element.appendChild(docLink);\n",
              "        }\n",
              "      </script>\n",
              "    </div>\n",
              "  </div>\n",
              "  "
            ]
          },
          "metadata": {}
        },
        {
          "output_type": "display_data",
          "data": {
            "text/plain": [
              "                AAPL\n",
              "Date                \n",
              "2010-01-07 -0.001850\n",
              "2010-01-08  0.006626\n",
              "2010-01-11 -0.008861\n",
              "2010-01-12 -0.011440\n",
              "2010-01-13  0.014007"
            ],
            "text/html": [
              "\n",
              "  <div id=\"df-af8534cf-8ff7-4fe2-ab4f-ed0e8a8fa39f\">\n",
              "    <div class=\"colab-df-container\">\n",
              "      <div>\n",
              "<style scoped>\n",
              "    .dataframe tbody tr th:only-of-type {\n",
              "        vertical-align: middle;\n",
              "    }\n",
              "\n",
              "    .dataframe tbody tr th {\n",
              "        vertical-align: top;\n",
              "    }\n",
              "\n",
              "    .dataframe thead th {\n",
              "        text-align: right;\n",
              "    }\n",
              "</style>\n",
              "<table border=\"1\" class=\"dataframe\">\n",
              "  <thead>\n",
              "    <tr style=\"text-align: right;\">\n",
              "      <th></th>\n",
              "      <th>AAPL</th>\n",
              "    </tr>\n",
              "    <tr>\n",
              "      <th>Date</th>\n",
              "      <th></th>\n",
              "    </tr>\n",
              "  </thead>\n",
              "  <tbody>\n",
              "    <tr>\n",
              "      <th>2010-01-07</th>\n",
              "      <td>-0.001850</td>\n",
              "    </tr>\n",
              "    <tr>\n",
              "      <th>2010-01-08</th>\n",
              "      <td>0.006626</td>\n",
              "    </tr>\n",
              "    <tr>\n",
              "      <th>2010-01-11</th>\n",
              "      <td>-0.008861</td>\n",
              "    </tr>\n",
              "    <tr>\n",
              "      <th>2010-01-12</th>\n",
              "      <td>-0.011440</td>\n",
              "    </tr>\n",
              "    <tr>\n",
              "      <th>2010-01-13</th>\n",
              "      <td>0.014007</td>\n",
              "    </tr>\n",
              "  </tbody>\n",
              "</table>\n",
              "</div>\n",
              "      <button class=\"colab-df-convert\" onclick=\"convertToInteractive('df-af8534cf-8ff7-4fe2-ab4f-ed0e8a8fa39f')\"\n",
              "              title=\"Convert this dataframe to an interactive table.\"\n",
              "              style=\"display:none;\">\n",
              "        \n",
              "  <svg xmlns=\"http://www.w3.org/2000/svg\" height=\"24px\"viewBox=\"0 0 24 24\"\n",
              "       width=\"24px\">\n",
              "    <path d=\"M0 0h24v24H0V0z\" fill=\"none\"/>\n",
              "    <path d=\"M18.56 5.44l.94 2.06.94-2.06 2.06-.94-2.06-.94-.94-2.06-.94 2.06-2.06.94zm-11 1L8.5 8.5l.94-2.06 2.06-.94-2.06-.94L8.5 2.5l-.94 2.06-2.06.94zm10 10l.94 2.06.94-2.06 2.06-.94-2.06-.94-.94-2.06-.94 2.06-2.06.94z\"/><path d=\"M17.41 7.96l-1.37-1.37c-.4-.4-.92-.59-1.43-.59-.52 0-1.04.2-1.43.59L10.3 9.45l-7.72 7.72c-.78.78-.78 2.05 0 2.83L4 21.41c.39.39.9.59 1.41.59.51 0 1.02-.2 1.41-.59l7.78-7.78 2.81-2.81c.8-.78.8-2.07 0-2.86zM5.41 20L4 18.59l7.72-7.72 1.47 1.35L5.41 20z\"/>\n",
              "  </svg>\n",
              "      </button>\n",
              "      \n",
              "  <style>\n",
              "    .colab-df-container {\n",
              "      display:flex;\n",
              "      flex-wrap:wrap;\n",
              "      gap: 12px;\n",
              "    }\n",
              "\n",
              "    .colab-df-convert {\n",
              "      background-color: #E8F0FE;\n",
              "      border: none;\n",
              "      border-radius: 50%;\n",
              "      cursor: pointer;\n",
              "      display: none;\n",
              "      fill: #1967D2;\n",
              "      height: 32px;\n",
              "      padding: 0 0 0 0;\n",
              "      width: 32px;\n",
              "    }\n",
              "\n",
              "    .colab-df-convert:hover {\n",
              "      background-color: #E2EBFA;\n",
              "      box-shadow: 0px 1px 2px rgba(60, 64, 67, 0.3), 0px 1px 3px 1px rgba(60, 64, 67, 0.15);\n",
              "      fill: #174EA6;\n",
              "    }\n",
              "\n",
              "    [theme=dark] .colab-df-convert {\n",
              "      background-color: #3B4455;\n",
              "      fill: #D2E3FC;\n",
              "    }\n",
              "\n",
              "    [theme=dark] .colab-df-convert:hover {\n",
              "      background-color: #434B5C;\n",
              "      box-shadow: 0px 1px 3px 1px rgba(0, 0, 0, 0.15);\n",
              "      filter: drop-shadow(0px 1px 2px rgba(0, 0, 0, 0.3));\n",
              "      fill: #FFFFFF;\n",
              "    }\n",
              "  </style>\n",
              "\n",
              "      <script>\n",
              "        const buttonEl =\n",
              "          document.querySelector('#df-af8534cf-8ff7-4fe2-ab4f-ed0e8a8fa39f button.colab-df-convert');\n",
              "        buttonEl.style.display =\n",
              "          google.colab.kernel.accessAllowed ? 'block' : 'none';\n",
              "\n",
              "        async function convertToInteractive(key) {\n",
              "          const element = document.querySelector('#df-af8534cf-8ff7-4fe2-ab4f-ed0e8a8fa39f');\n",
              "          const dataTable =\n",
              "            await google.colab.kernel.invokeFunction('convertToInteractive',\n",
              "                                                     [key], {});\n",
              "          if (!dataTable) return;\n",
              "\n",
              "          const docLinkHtml = 'Like what you see? Visit the ' +\n",
              "            '<a target=\"_blank\" href=https://colab.research.google.com/notebooks/data_table.ipynb>data table notebook</a>'\n",
              "            + ' to learn more about interactive tables.';\n",
              "          element.innerHTML = '';\n",
              "          dataTable['output_type'] = 'display_data';\n",
              "          await google.colab.output.renderOutput(dataTable, element);\n",
              "          const docLink = document.createElement('div');\n",
              "          docLink.innerHTML = docLinkHtml;\n",
              "          element.appendChild(docLink);\n",
              "        }\n",
              "      </script>\n",
              "    </div>\n",
              "  </div>\n",
              "  "
            ]
          },
          "metadata": {}
        },
        {
          "output_type": "display_data",
          "data": {
            "text/plain": [
              "              AAPL_1    AAPL_2    MSFT_1    MSFT_2\n",
              "Date                                              \n",
              "2021-12-27  0.003637  0.015203  0.004462  0.017896\n",
              "2021-12-28  0.022715  0.003637  0.022921  0.004462\n",
              "2021-12-29 -0.005784  0.022715 -0.003510  0.022921\n",
              "2021-12-30  0.000502 -0.005784  0.002049 -0.003510\n",
              "2021-12-31 -0.006600  0.000502 -0.007721  0.002049"
            ],
            "text/html": [
              "\n",
              "  <div id=\"df-fde6ee14-1860-4e4d-8baa-1479b2fde480\">\n",
              "    <div class=\"colab-df-container\">\n",
              "      <div>\n",
              "<style scoped>\n",
              "    .dataframe tbody tr th:only-of-type {\n",
              "        vertical-align: middle;\n",
              "    }\n",
              "\n",
              "    .dataframe tbody tr th {\n",
              "        vertical-align: top;\n",
              "    }\n",
              "\n",
              "    .dataframe thead th {\n",
              "        text-align: right;\n",
              "    }\n",
              "</style>\n",
              "<table border=\"1\" class=\"dataframe\">\n",
              "  <thead>\n",
              "    <tr style=\"text-align: right;\">\n",
              "      <th></th>\n",
              "      <th>AAPL_1</th>\n",
              "      <th>AAPL_2</th>\n",
              "      <th>MSFT_1</th>\n",
              "      <th>MSFT_2</th>\n",
              "    </tr>\n",
              "    <tr>\n",
              "      <th>Date</th>\n",
              "      <th></th>\n",
              "      <th></th>\n",
              "      <th></th>\n",
              "      <th></th>\n",
              "    </tr>\n",
              "  </thead>\n",
              "  <tbody>\n",
              "    <tr>\n",
              "      <th>2021-12-27</th>\n",
              "      <td>0.003637</td>\n",
              "      <td>0.015203</td>\n",
              "      <td>0.004462</td>\n",
              "      <td>0.017896</td>\n",
              "    </tr>\n",
              "    <tr>\n",
              "      <th>2021-12-28</th>\n",
              "      <td>0.022715</td>\n",
              "      <td>0.003637</td>\n",
              "      <td>0.022921</td>\n",
              "      <td>0.004462</td>\n",
              "    </tr>\n",
              "    <tr>\n",
              "      <th>2021-12-29</th>\n",
              "      <td>-0.005784</td>\n",
              "      <td>0.022715</td>\n",
              "      <td>-0.003510</td>\n",
              "      <td>0.022921</td>\n",
              "    </tr>\n",
              "    <tr>\n",
              "      <th>2021-12-30</th>\n",
              "      <td>0.000502</td>\n",
              "      <td>-0.005784</td>\n",
              "      <td>0.002049</td>\n",
              "      <td>-0.003510</td>\n",
              "    </tr>\n",
              "    <tr>\n",
              "      <th>2021-12-31</th>\n",
              "      <td>-0.006600</td>\n",
              "      <td>0.000502</td>\n",
              "      <td>-0.007721</td>\n",
              "      <td>0.002049</td>\n",
              "    </tr>\n",
              "  </tbody>\n",
              "</table>\n",
              "</div>\n",
              "      <button class=\"colab-df-convert\" onclick=\"convertToInteractive('df-fde6ee14-1860-4e4d-8baa-1479b2fde480')\"\n",
              "              title=\"Convert this dataframe to an interactive table.\"\n",
              "              style=\"display:none;\">\n",
              "        \n",
              "  <svg xmlns=\"http://www.w3.org/2000/svg\" height=\"24px\"viewBox=\"0 0 24 24\"\n",
              "       width=\"24px\">\n",
              "    <path d=\"M0 0h24v24H0V0z\" fill=\"none\"/>\n",
              "    <path d=\"M18.56 5.44l.94 2.06.94-2.06 2.06-.94-2.06-.94-.94-2.06-.94 2.06-2.06.94zm-11 1L8.5 8.5l.94-2.06 2.06-.94-2.06-.94L8.5 2.5l-.94 2.06-2.06.94zm10 10l.94 2.06.94-2.06 2.06-.94-2.06-.94-.94-2.06-.94 2.06-2.06.94z\"/><path d=\"M17.41 7.96l-1.37-1.37c-.4-.4-.92-.59-1.43-.59-.52 0-1.04.2-1.43.59L10.3 9.45l-7.72 7.72c-.78.78-.78 2.05 0 2.83L4 21.41c.39.39.9.59 1.41.59.51 0 1.02-.2 1.41-.59l7.78-7.78 2.81-2.81c.8-.78.8-2.07 0-2.86zM5.41 20L4 18.59l7.72-7.72 1.47 1.35L5.41 20z\"/>\n",
              "  </svg>\n",
              "      </button>\n",
              "      \n",
              "  <style>\n",
              "    .colab-df-container {\n",
              "      display:flex;\n",
              "      flex-wrap:wrap;\n",
              "      gap: 12px;\n",
              "    }\n",
              "\n",
              "    .colab-df-convert {\n",
              "      background-color: #E8F0FE;\n",
              "      border: none;\n",
              "      border-radius: 50%;\n",
              "      cursor: pointer;\n",
              "      display: none;\n",
              "      fill: #1967D2;\n",
              "      height: 32px;\n",
              "      padding: 0 0 0 0;\n",
              "      width: 32px;\n",
              "    }\n",
              "\n",
              "    .colab-df-convert:hover {\n",
              "      background-color: #E2EBFA;\n",
              "      box-shadow: 0px 1px 2px rgba(60, 64, 67, 0.3), 0px 1px 3px 1px rgba(60, 64, 67, 0.15);\n",
              "      fill: #174EA6;\n",
              "    }\n",
              "\n",
              "    [theme=dark] .colab-df-convert {\n",
              "      background-color: #3B4455;\n",
              "      fill: #D2E3FC;\n",
              "    }\n",
              "\n",
              "    [theme=dark] .colab-df-convert:hover {\n",
              "      background-color: #434B5C;\n",
              "      box-shadow: 0px 1px 3px 1px rgba(0, 0, 0, 0.15);\n",
              "      filter: drop-shadow(0px 1px 2px rgba(0, 0, 0, 0.3));\n",
              "      fill: #FFFFFF;\n",
              "    }\n",
              "  </style>\n",
              "\n",
              "      <script>\n",
              "        const buttonEl =\n",
              "          document.querySelector('#df-fde6ee14-1860-4e4d-8baa-1479b2fde480 button.colab-df-convert');\n",
              "        buttonEl.style.display =\n",
              "          google.colab.kernel.accessAllowed ? 'block' : 'none';\n",
              "\n",
              "        async function convertToInteractive(key) {\n",
              "          const element = document.querySelector('#df-fde6ee14-1860-4e4d-8baa-1479b2fde480');\n",
              "          const dataTable =\n",
              "            await google.colab.kernel.invokeFunction('convertToInteractive',\n",
              "                                                     [key], {});\n",
              "          if (!dataTable) return;\n",
              "\n",
              "          const docLinkHtml = 'Like what you see? Visit the ' +\n",
              "            '<a target=\"_blank\" href=https://colab.research.google.com/notebooks/data_table.ipynb>data table notebook</a>'\n",
              "            + ' to learn more about interactive tables.';\n",
              "          element.innerHTML = '';\n",
              "          dataTable['output_type'] = 'display_data';\n",
              "          await google.colab.output.renderOutput(dataTable, element);\n",
              "          const docLink = document.createElement('div');\n",
              "          docLink.innerHTML = docLinkHtml;\n",
              "          element.appendChild(docLink);\n",
              "        }\n",
              "      </script>\n",
              "    </div>\n",
              "  </div>\n",
              "  "
            ]
          },
          "metadata": {}
        },
        {
          "output_type": "display_data",
          "data": {
            "text/plain": [
              "                AAPL\n",
              "Date                \n",
              "2021-12-27  0.022715\n",
              "2021-12-28 -0.005784\n",
              "2021-12-29  0.000502\n",
              "2021-12-30 -0.006600\n",
              "2021-12-31 -0.003542"
            ],
            "text/html": [
              "\n",
              "  <div id=\"df-645cc62a-f629-4e5b-9348-7efb0fed2c4e\">\n",
              "    <div class=\"colab-df-container\">\n",
              "      <div>\n",
              "<style scoped>\n",
              "    .dataframe tbody tr th:only-of-type {\n",
              "        vertical-align: middle;\n",
              "    }\n",
              "\n",
              "    .dataframe tbody tr th {\n",
              "        vertical-align: top;\n",
              "    }\n",
              "\n",
              "    .dataframe thead th {\n",
              "        text-align: right;\n",
              "    }\n",
              "</style>\n",
              "<table border=\"1\" class=\"dataframe\">\n",
              "  <thead>\n",
              "    <tr style=\"text-align: right;\">\n",
              "      <th></th>\n",
              "      <th>AAPL</th>\n",
              "    </tr>\n",
              "    <tr>\n",
              "      <th>Date</th>\n",
              "      <th></th>\n",
              "    </tr>\n",
              "  </thead>\n",
              "  <tbody>\n",
              "    <tr>\n",
              "      <th>2021-12-27</th>\n",
              "      <td>0.022715</td>\n",
              "    </tr>\n",
              "    <tr>\n",
              "      <th>2021-12-28</th>\n",
              "      <td>-0.005784</td>\n",
              "    </tr>\n",
              "    <tr>\n",
              "      <th>2021-12-29</th>\n",
              "      <td>0.000502</td>\n",
              "    </tr>\n",
              "    <tr>\n",
              "      <th>2021-12-30</th>\n",
              "      <td>-0.006600</td>\n",
              "    </tr>\n",
              "    <tr>\n",
              "      <th>2021-12-31</th>\n",
              "      <td>-0.003542</td>\n",
              "    </tr>\n",
              "  </tbody>\n",
              "</table>\n",
              "</div>\n",
              "      <button class=\"colab-df-convert\" onclick=\"convertToInteractive('df-645cc62a-f629-4e5b-9348-7efb0fed2c4e')\"\n",
              "              title=\"Convert this dataframe to an interactive table.\"\n",
              "              style=\"display:none;\">\n",
              "        \n",
              "  <svg xmlns=\"http://www.w3.org/2000/svg\" height=\"24px\"viewBox=\"0 0 24 24\"\n",
              "       width=\"24px\">\n",
              "    <path d=\"M0 0h24v24H0V0z\" fill=\"none\"/>\n",
              "    <path d=\"M18.56 5.44l.94 2.06.94-2.06 2.06-.94-2.06-.94-.94-2.06-.94 2.06-2.06.94zm-11 1L8.5 8.5l.94-2.06 2.06-.94-2.06-.94L8.5 2.5l-.94 2.06-2.06.94zm10 10l.94 2.06.94-2.06 2.06-.94-2.06-.94-.94-2.06-.94 2.06-2.06.94z\"/><path d=\"M17.41 7.96l-1.37-1.37c-.4-.4-.92-.59-1.43-.59-.52 0-1.04.2-1.43.59L10.3 9.45l-7.72 7.72c-.78.78-.78 2.05 0 2.83L4 21.41c.39.39.9.59 1.41.59.51 0 1.02-.2 1.41-.59l7.78-7.78 2.81-2.81c.8-.78.8-2.07 0-2.86zM5.41 20L4 18.59l7.72-7.72 1.47 1.35L5.41 20z\"/>\n",
              "  </svg>\n",
              "      </button>\n",
              "      \n",
              "  <style>\n",
              "    .colab-df-container {\n",
              "      display:flex;\n",
              "      flex-wrap:wrap;\n",
              "      gap: 12px;\n",
              "    }\n",
              "\n",
              "    .colab-df-convert {\n",
              "      background-color: #E8F0FE;\n",
              "      border: none;\n",
              "      border-radius: 50%;\n",
              "      cursor: pointer;\n",
              "      display: none;\n",
              "      fill: #1967D2;\n",
              "      height: 32px;\n",
              "      padding: 0 0 0 0;\n",
              "      width: 32px;\n",
              "    }\n",
              "\n",
              "    .colab-df-convert:hover {\n",
              "      background-color: #E2EBFA;\n",
              "      box-shadow: 0px 1px 2px rgba(60, 64, 67, 0.3), 0px 1px 3px 1px rgba(60, 64, 67, 0.15);\n",
              "      fill: #174EA6;\n",
              "    }\n",
              "\n",
              "    [theme=dark] .colab-df-convert {\n",
              "      background-color: #3B4455;\n",
              "      fill: #D2E3FC;\n",
              "    }\n",
              "\n",
              "    [theme=dark] .colab-df-convert:hover {\n",
              "      background-color: #434B5C;\n",
              "      box-shadow: 0px 1px 3px 1px rgba(0, 0, 0, 0.15);\n",
              "      filter: drop-shadow(0px 1px 2px rgba(0, 0, 0, 0.3));\n",
              "      fill: #FFFFFF;\n",
              "    }\n",
              "  </style>\n",
              "\n",
              "      <script>\n",
              "        const buttonEl =\n",
              "          document.querySelector('#df-645cc62a-f629-4e5b-9348-7efb0fed2c4e button.colab-df-convert');\n",
              "        buttonEl.style.display =\n",
              "          google.colab.kernel.accessAllowed ? 'block' : 'none';\n",
              "\n",
              "        async function convertToInteractive(key) {\n",
              "          const element = document.querySelector('#df-645cc62a-f629-4e5b-9348-7efb0fed2c4e');\n",
              "          const dataTable =\n",
              "            await google.colab.kernel.invokeFunction('convertToInteractive',\n",
              "                                                     [key], {});\n",
              "          if (!dataTable) return;\n",
              "\n",
              "          const docLinkHtml = 'Like what you see? Visit the ' +\n",
              "            '<a target=\"_blank\" href=https://colab.research.google.com/notebooks/data_table.ipynb>data table notebook</a>'\n",
              "            + ' to learn more about interactive tables.';\n",
              "          element.innerHTML = '';\n",
              "          dataTable['output_type'] = 'display_data';\n",
              "          await google.colab.output.renderOutput(dataTable, element);\n",
              "          const docLink = document.createElement('div');\n",
              "          docLink.innerHTML = docLinkHtml;\n",
              "          element.appendChild(docLink);\n",
              "        }\n",
              "      </script>\n",
              "    </div>\n",
              "  </div>\n",
              "  "
            ]
          },
          "metadata": {}
        }
      ]
    },
    {
      "cell_type": "code",
      "source": [
        "n_train = round(y.size*0.80)\n",
        "# train_X = r[0:2500]\n",
        "# test_X = r[2500:3019]\n",
        "train_X = X.to_numpy()[0:n_train]\n",
        "test_X = X.to_numpy()[n_train:-1]\n",
        "\n",
        "\n",
        "# train_y = r[1:2501]\n",
        "# test_y = r[2501:3020]\n",
        "train_y = y.to_numpy()[1:(n_train+1)]\n",
        "test_y = y.to_numpy()[(n_train+1):]\n"
      ],
      "metadata": {
        "id": "BvfpAbHUDZah"
      },
      "id": "BvfpAbHUDZah",
      "execution_count": 11,
      "outputs": []
    },
    {
      "cell_type": "markdown",
      "source": [
        "$r_{1,t} = \\beta_0 + \\beta_{1,1} r_{1,t-1} + \\beta_{1,2} r_{1,t-2} + \\beta_{2,1} r_{2,t-1} + \\beta_{2,2} r_{2,t-2}$"
      ],
      "metadata": {
        "id": "CHaFmi1UAOdP"
      },
      "id": "CHaFmi1UAOdP"
    },
    {
      "cell_type": "code",
      "execution_count": 12,
      "id": "118dbb6e",
      "metadata": {
        "scrolled": false,
        "colab": {
          "base_uri": "https://localhost:8080/",
          "height": 564
        },
        "id": "118dbb6e",
        "outputId": "e18ad776-78cb-4e70-8bba-0bd44193a4f3"
      },
      "outputs": [
        {
          "output_type": "stream",
          "name": "stdout",
          "text": [
            "Model: \"sequential\"\n",
            "_________________________________________________________________\n",
            " Layer (type)                Output Shape              Param #   \n",
            "=================================================================\n",
            " dense (Dense)               (None, 2)                 10        \n",
            "                                                                 \n",
            " dense_1 (Dense)             (None, 1)                 3         \n",
            "                                                                 \n",
            "=================================================================\n",
            "Total params: 13\n",
            "Trainable params: 13\n",
            "Non-trainable params: 0\n",
            "_________________________________________________________________\n"
          ]
        },
        {
          "output_type": "display_data",
          "data": {
            "text/plain": [
              "<Figure size 432x288 with 1 Axes>"
            ],
            "image/png": "[encoded data removed]"
          },
          "metadata": {
            "needs_background": "light"
          }
        },
        {
          "output_type": "stream",
          "name": "stdout",
          "text": [
            "Training MSE: 0.0002524738956708461\n",
            "Validation MSE: 0.0004050992720294744\n",
            "Test MSE: 0.0005025836871936917\n",
            "Compare with AR(1): 0.00049814963971763\n"
          ]
        }
      ],
      "source": [
        "\n",
        "# Construct neural network\n",
        "HIDDEN = 2\n",
        "NN = keras.Sequential()\n",
        "NN.add(keras.layers.Dense(HIDDEN, input_dim=train_X.shape[1],activation='relu')) #1 input x\n",
        "# NN.add(keras.layers.Dense(HIDDEN, activation='relu'))\n",
        "NN.add(keras.layers.Dense(1, activation='linear')) #1 output y\n",
        "\n",
        "NN.summary()\n",
        "\n",
        "# State the loss function and optimizer (adam is a good choice usually)\n",
        "NN.compile(optimizer=keras.optimizers.Adam(),loss='mean_squared_error')\n",
        "\n",
        "# Fit the model to training data\n",
        "EPOCHS = 100 # How long to train for (cut off early)\n",
        "history = NN.fit(train_X,train_y, epochs=EPOCHS, validation_split=0.1,\n",
        "                 shuffle=False, verbose=0)\n",
        "# View improvement over epochs\n",
        "plt.plot(history.history['loss'])\n",
        "plt.plot(history.history['val_loss'])\n",
        "plt.legend(['Training','Validation'])\n",
        "plt.show()\n",
        "print('Training MSE:',history.history['loss'][-1]) # Training MSE\n",
        "print('Validation MSE:', history.history['val_loss'][-1]) # Validation loss\n",
        "\n",
        "# Evaluate on test data\n",
        "print('Test MSE:', NN.evaluate(test_X , test_y , verbose=0)) # Test MSE\n",
        "\n",
        "\n",
        "# How does this compare with an AR(1) model\n",
        "XX = np.vstack([np.ones(len(train_X[:,0])),train_X[:,0]]).T\n",
        "b0,b1 = np.linalg.lstsq(XX,train_y,rcond=None)[0]\n",
        "\n",
        "# Compute MSE\n",
        "print('Compare with AR(1):', np.mean(((b0+b1*test_X) - test_y)**2))\n",
        "\n",
        "\n",
        "# How should we modify this NN to consider 2+ lags?\n",
        "# What other network structures should we try?"
      ]
    },
    {
      "cell_type": "code",
      "source": [
        "plt.plot(history.history['loss'])\n",
        "plt.plot(history.history['val_loss'][:-1])\n",
        "plt.legend(['Training','Validation'])\n",
        "plt.show()\n"
      ],
      "metadata": {
        "colab": {
          "base_uri": "https://localhost:8080/",
          "height": 269
        },
        "id": "CBgbx5IEHbR-",
        "outputId": "cea3819b-d47b-4ada-bc97-1762a037aad2"
      },
      "id": "CBgbx5IEHbR-",
      "execution_count": 13,
      "outputs": [
        {
          "output_type": "display_data",
          "data": {
            "text/plain": [
              "<Figure size 432x288 with 1 Axes>"
            ],
            "image/png": "[encoded data removed]"
          },
          "metadata": {
            "needs_background": "light"
          }
        }
      ]
    },
    {
      "cell_type": "code",
      "source": [
        "plt.plot(history.history['loss'])\n",
        "plt.legend(['Training'])\n",
        "plt.show()"
      ],
      "metadata": {
        "colab": {
          "base_uri": "https://localhost:8080/",
          "height": 265
        },
        "id": "AGk-LK1zJU3X",
        "outputId": "d6df50c1-6ff5-464f-8b61-c562205db2ed"
      },
      "id": "AGk-LK1zJU3X",
      "execution_count": 14,
      "outputs": [
        {
          "output_type": "display_data",
          "data": {
            "text/plain": [
              "<Figure size 432x288 with 1 Axes>"
            ],
            "image/png": "[encoded data removed]"
          },
          "metadata": {
            "needs_background": "light"
          }
        }
      ]
    },
    {
      "cell_type": "code",
      "source": [
        "plt.plot(history.history['val_loss'])\n",
        "plt.legend(['Validation'])\n",
        "plt.show()"
      ],
      "metadata": {
        "colab": {
          "base_uri": "https://localhost:8080/",
          "height": 265
        },
        "id": "3ClKoR-cJdrI",
        "outputId": "385ccf61-c4c9-462e-b4ed-2d4bff00effb"
      },
      "id": "3ClKoR-cJdrI",
      "execution_count": 15,
      "outputs": [
        {
          "output_type": "display_data",
          "data": {
            "text/plain": [
              "<Figure size 432x288 with 1 Axes>"
            ],
            "image/png": "[encoded data removed]"
          },
          "metadata": {
            "needs_background": "light"
          }
        }
      ]
    },
    {
      "cell_type": "markdown",
      "source": [
        "Training MSE: 0.0002538338303565979\n",
        "\n",
        "Validation MSE: 0.0004063052765559405\n",
        "\n",
        "Test MSE: 0.0005042432458139956\n",
        "\n",
        "Compare with AR(1): 0.0005017716532750181"
      ],
      "metadata": {
        "id": "MroC5pFS_vuN"
      },
      "id": "MroC5pFS_vuN"
    },
    {
      "cell_type": "code",
      "source": [
        "# Another neural network\n",
        "\n",
        "# Construct neural network\n",
        "HIDDEN = 32\n",
        "NN2 = keras.Sequential()\n",
        "NN2.add(keras.layers.Dense(HIDDEN, input_dim=train_X.shape[1],activation='relu')) #1 input x\n",
        "# NN.add(keras.layers.Dense(HIDDEN, activation='relu'))\n",
        "NN2.add(keras.layers.Dense(1, activation='linear')) #1 output y\n",
        "\n",
        "NN2.summary()\n",
        "\n",
        "# State the loss function and optimizer (adam is a good choice usually)\n",
        "NN2.compile(optimizer=keras.optimizers.Adam(),loss='mean_squared_error')\n",
        "\n",
        "# Fit the model to training data\n",
        "EPOCHS = 100 # How long to train for (cut off early)\n",
        "history = NN2.fit(train_X,train_y, epochs=EPOCHS, validation_split=0.1,\n",
        "                 shuffle=False, verbose=0)\n",
        "# View improvement over epochs\n",
        "plt.plot(history.history['loss'])\n",
        "plt.plot(history.history['val_loss'])\n",
        "plt.legend(['Training','Validation'])\n",
        "plt.show()\n",
        "print('Training MSE:',history.history['loss'][-1]) # Training MSE\n",
        "print('Validation MSE:', history.history['val_loss'][-1]) # Validation loss\n",
        "\n",
        "# Evaluate on test data\n",
        "print('Test MSE:', NN.evaluate(test_X , test_y , verbose=0)) # Test MSE\n",
        "\n",
        "\n",
        "# How does this compare with an AR(1) model\n",
        "XX = np.vstack([np.ones(len(train_X[:,0])),train_X[:,0]]).T\n",
        "b0,b1 = np.linalg.lstsq(XX,train_y,rcond=None)[0]\n",
        "\n",
        "# Compute MSE\n",
        "print('Compa#re with AR(1):', np.mean(((b0+b1*test_X) - test_y)**2))\n",
        "\n",
        "\n",
        "# How should we modify this NN to consider 2+ lags?\n",
        "# What other network structures should we try?"
      ],
      "metadata": {
        "colab": {
          "base_uri": "https://localhost:8080/",
          "height": 560
        },
        "id": "oBz8sI-IMNjP",
        "outputId": "e2e23a35-f042-4028-e277-0b4e04bea11d"
      },
      "id": "oBz8sI-IMNjP",
      "execution_count": 16,
      "outputs": [
        {
          "output_type": "stream",
          "name": "stdout",
          "text": [
            "Model: \"sequential_1\"\n",
            "_________________________________________________________________\n",
            " Layer (type)                Output Shape              Param #   \n",
            "=================================================================\n",
            " dense_2 (Dense)             (None, 32)                160       \n",
            "                                                                 \n",
            " dense_3 (Dense)             (None, 1)                 33        \n",
            "                                                                 \n",
            "=================================================================\n",
            "Total params: 193\n",
            "Trainable params: 193\n",
            "Non-trainable params: 0\n",
            "_________________________________________________________________\n"
          ]
        },
        {
          "output_type": "display_data",
          "data": {
            "text/plain": [
              "<Figure size 432x288 with 1 Axes>"
            ],
            "image/png": "[encoded data removed]"
          },
          "metadata": {
            "needs_background": "light"
          }
        },
        {
          "output_type": "stream",
          "name": "stdout",
          "text": [
            "Training MSE: 0.00024341409152839333\n",
            "Validation MSE: 0.00042260761256329715\n",
            "Test MSE: 0.0005025836871936917\n",
            "Compa#re with AR(1): 0.00049814963971763\n"
          ]
        }
      ]
    },
    {
      "cell_type": "code",
      "source": [
        "plt.plot(history.history['loss'])\n",
        "plt.legend(['Training'])\n",
        "plt.show()"
      ],
      "metadata": {
        "colab": {
          "base_uri": "https://localhost:8080/",
          "height": 265
        },
        "id": "n5tQmx4eMmIt",
        "outputId": "bf8cff3f-2985-4276-a1f4-6d28276c8b71"
      },
      "id": "n5tQmx4eMmIt",
      "execution_count": 17,
      "outputs": [
        {
          "output_type": "display_data",
          "data": {
            "text/plain": [
              "<Figure size 432x288 with 1 Axes>"
            ],
            "image/png": "[encoded data removed]"
          },
          "metadata": {
            "needs_background": "light"
          }
        }
      ]
    },
    {
      "cell_type": "code",
      "source": [
        "# Overfitting\n",
        "plt.plot(history.history['val_loss'])\n",
        "plt.legend(['Validation'])\n",
        "plt.show()\n"
      ],
      "metadata": {
        "colab": {
          "base_uri": "https://localhost:8080/",
          "height": 265
        },
        "id": "V2UVtByzMniw",
        "outputId": "07d9c3a2-a7dd-461b-e625-add31553d54d"
      },
      "id": "V2UVtByzMniw",
      "execution_count": 18,
      "outputs": [
        {
          "output_type": "display_data",
          "data": {
            "text/plain": [
              "<Figure size 432x288 with 1 Axes>"
            ],
            "image/png": "[encoded data removed]"
          },
          "metadata": {
            "needs_background": "light"
          }
        }
      ]
    },
    {
      "cell_type": "code",
      "execution_count": 19,
      "id": "0db38b2e",
      "metadata": {
        "colab": {
          "base_uri": "https://localhost:8080/"
        },
        "id": "0db38b2e",
        "outputId": "d4f5c4c4-6e74-40c8-ae43-ccd6f9d73724"
      },
      "outputs": [
        {
          "output_type": "stream",
          "name": "stdout",
          "text": [
            "Model: \"sequential_2\"\n",
            "_________________________________________________________________\n",
            " Layer (type)                Output Shape              Param #   \n",
            "=================================================================\n",
            " embedding (Embedding)       (None, None, 2)           2         \n",
            "                                                                 \n",
            " lstm (LSTM)                 (None, 2)                 40        \n",
            "                                                                 \n",
            " dense_4 (Dense)             (None, 1)                 3         \n",
            "                                                                 \n",
            "=================================================================\n",
            "Total params: 45\n",
            "Trainable params: 45\n",
            "Non-trainable params: 0\n",
            "_________________________________________________________________\n"
          ]
        }
      ],
      "source": [
        "## Advanced topics:\n",
        "## Recurrent NN and LSTM NN\n",
        "\n",
        "#NN = keras.Sequential()\n",
        "#NN.add(keras.layers.Embedding(input_dim=1 , output_dim=2))\n",
        "#NN.add(keras.layers.SimpleRNN(16)) # 16 hidden nodes; tanh activation by default\n",
        "#NN.add(keras.layers.Dense(1, activation='linear')) # 1 output\n",
        "\n",
        "NN = keras.Sequential()\n",
        "NN.add(keras.layers.Embedding(input_dim=1 , output_dim=2))\n",
        "NN.add(keras.layers.LSTM(2)) # 16 hidden nodes; tanh activation by default\n",
        "NN.add(keras.layers.Dense(1, activation='linear')) # 1 output\n",
        "\n",
        "NN.summary()\n",
        "\n",
        "NN.compile(optimizer=keras.optimizers.Adam(),loss='mean_squared_error')"
      ]
    },
    {
      "cell_type": "code",
      "execution_count": 20,
      "id": "dbbdf5a2",
      "metadata": {
        "colab": {
          "base_uri": "https://localhost:8080/"
        },
        "id": "dbbdf5a2",
        "outputId": "f8b2a126-3029-4b78-cc77-9af2447b2c3a"
      },
      "outputs": [
        {
          "output_type": "stream",
          "name": "stdout",
          "text": [
            "0.0002533225924707949\n"
          ]
        }
      ],
      "source": [
        "EPOCHS = 100 \n",
        "history = NN.fit(train_X,train_y,epochs=EPOCHS,batch_size=32, shuffle=False, validation_split=0.1, verbose=0) # Batches help avoid overfitting\n",
        "print(history.history['loss'][-1]) # Training MSE\n"
      ]
    },
    {
      "cell_type": "code",
      "source": [
        "# View improvement over epochs\n",
        "plt.plot(np.log(history.history['loss']))\n",
        "plt.plot(np.log(history.history['val_loss']))\n",
        "plt.legend(['training', 'validation'])\n",
        "plt.show()\n"
      ],
      "metadata": {
        "colab": {
          "base_uri": "https://localhost:8080/",
          "height": 265
        },
        "id": "sYuY8E5KNiB_",
        "outputId": "5104fdcb-7f75-40f1-b491-2183ac75cad9"
      },
      "id": "sYuY8E5KNiB_",
      "execution_count": 21,
      "outputs": [
        {
          "output_type": "display_data",
          "data": {
            "text/plain": [
              "<Figure size 432x288 with 1 Axes>"
            ],
            "image/png": "[encoded data removed]"
          },
          "metadata": {
            "needs_background": "light"
          }
        }
      ]
    },
    {
      "cell_type": "code",
      "source": [
        "plt.plot(history.history['val_loss'])\n",
        "plt.legend(['validation'])\n",
        "plt.show()"
      ],
      "metadata": {
        "colab": {
          "base_uri": "https://localhost:8080/",
          "height": 265
        },
        "id": "HFaJDQFUNpCo",
        "outputId": "7f192fbf-a315-44f5-f998-81446801e3e9"
      },
      "id": "HFaJDQFUNpCo",
      "execution_count": 22,
      "outputs": [
        {
          "output_type": "display_data",
          "data": {
            "text/plain": [
              "<Figure size 432x288 with 1 Axes>"
            ],
            "image/png": "[encoded data removed]"
          },
          "metadata": {
            "needs_background": "light"
          }
        }
      ]
    },
    {
      "cell_type": "code",
      "source": [
        "NN.evaluate(test_X , test_y)"
      ],
      "metadata": {
        "colab": {
          "base_uri": "https://localhost:8080/"
        },
        "id": "bHWe2fQTZmWa",
        "outputId": "1be9d8bc-afc1-41a6-d6fc-904571459f15"
      },
      "id": "bHWe2fQTZmWa",
      "execution_count": 23,
      "outputs": [
        {
          "output_type": "stream",
          "name": "stdout",
          "text": [
            "19/19 [==============================] - 0s 2ms/step - loss: 4.9631e-04\n"
          ]
        },
        {
          "output_type": "execute_result",
          "data": {
            "text/plain": [
              "0.000496310880407691"
            ]
          },
          "metadata": {},
          "execution_count": 23
        }
      ]
    },
    {
      "cell_type": "code",
      "source": [
        "# Evaluate on test data\n",
        "print(NN.evaluate(test_X , test_y , verbose=0)) # Test MSE"
      ],
      "metadata": {
        "id": "kgmR8JNtZFlR",
        "colab": {
          "base_uri": "https://localhost:8080/"
        },
        "outputId": "9e81451c-fffd-4c17-c575-fe8a90aba93b"
      },
      "id": "kgmR8JNtZFlR",
      "execution_count": 24,
      "outputs": [
        {
          "output_type": "stream",
          "name": "stdout",
          "text": [
            "0.000496310880407691\n"
          ]
        }
      ]
    },
    {
      "cell_type": "code",
      "execution_count": 25,
      "id": "overhead-capitol",
      "metadata": {
        "id": "overhead-capitol"
      },
      "outputs": [],
      "source": [
        "# Other packages exist to do neural networks\n",
        "# -> Tensorflow is more customizable but less user friendly\n",
        "# -> PyTorch is newer and gaining popularity"
      ]
    }
  ],
  "metadata": {
    "kernelspec": {
      "display_name": "Python 3",
      "language": "python",
      "name": "python3"
    },
    "language_info": {
      "codemirror_mode": {
        "name": "ipython",
        "version": 3
      },
      "file_extension": ".py",
      "mimetype": "text/x-python",
      "name": "python",
      "nbconvert_exporter": "python",
      "pygments_lexer": "ipython3",
      "version": "3.7.10"
    },
    "colab": {
      "provenance": [],
      "collapsed_sections": [],
      "toc_visible": true,
      "include_colab_link": true
    }
  },
  "nbformat": 4,
  "nbformat_minor": 5
}